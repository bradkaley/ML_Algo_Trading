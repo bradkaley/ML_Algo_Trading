{
 "cells": [
  {
   "cell_type": "code",
   "execution_count": 54,
   "metadata": {},
   "outputs": [],
   "source": [
    "import numpy as np\n",
    "import pandas as pd\n",
    "import hvplot.pandas\n",
    "import tensorflow as tf\n",
    "from pathlib import Path\n",
    "\n",
    "# API import\n",
    "import requests\n",
    "import json\n"
   ]
  },
  {
   "cell_type": "code",
   "execution_count": 118,
   "metadata": {},
   "outputs": [],
   "source": [
    "ticker = \"ETH\"\n",
    "frequency = \"1hour\"\n",
    "epoch = \"1620360000\"\n",
    "response_data = requests.get(f'https://api.kucoin.com/api/v1/market/candles?type={frequency}&symbol={ticker}-USDT&startAt={epoch}&endAt=0&limit=10000').json()"
   ]
  },
  {
   "cell_type": "code",
   "execution_count": 119,
   "metadata": {},
   "outputs": [
    {
     "data": {
      "text/html": [
       "<div>\n",
       "<style scoped>\n",
       "    .dataframe tbody tr th:only-of-type {\n",
       "        vertical-align: middle;\n",
       "    }\n",
       "\n",
       "    .dataframe tbody tr th {\n",
       "        vertical-align: top;\n",
       "    }\n",
       "\n",
       "    .dataframe thead th {\n",
       "        text-align: right;\n",
       "    }\n",
       "</style>\n",
       "<table border=\"1\" class=\"dataframe\">\n",
       "  <thead>\n",
       "    <tr style=\"text-align: right;\">\n",
       "      <th></th>\n",
       "      <th>Opening price</th>\n",
       "      <th>Closing price</th>\n",
       "      <th>Highest price</th>\n",
       "      <th>Lowest price</th>\n",
       "      <th>Transaction volume</th>\n",
       "      <th>Transaction amount</th>\n",
       "    </tr>\n",
       "    <tr>\n",
       "      <th>Date</th>\n",
       "      <th></th>\n",
       "      <th></th>\n",
       "      <th></th>\n",
       "      <th></th>\n",
       "      <th></th>\n",
       "      <th></th>\n",
       "    </tr>\n",
       "  </thead>\n",
       "  <tbody>\n",
       "    <tr>\n",
       "      <th>2022-01-20 20:00:00</th>\n",
       "      <td>3215.74</td>\n",
       "      <td>3195.28</td>\n",
       "      <td>3219.04</td>\n",
       "      <td>3184.00</td>\n",
       "      <td>3806.383624</td>\n",
       "      <td>1.217706e+07</td>\n",
       "    </tr>\n",
       "    <tr>\n",
       "      <th>2022-01-20 21:00:00</th>\n",
       "      <td>3195.29</td>\n",
       "      <td>3080.74</td>\n",
       "      <td>3197.26</td>\n",
       "      <td>3080.04</td>\n",
       "      <td>8957.291509</td>\n",
       "      <td>2.806991e+07</td>\n",
       "    </tr>\n",
       "    <tr>\n",
       "      <th>2022-01-20 22:00:00</th>\n",
       "      <td>3080.77</td>\n",
       "      <td>3061.41</td>\n",
       "      <td>3106.49</td>\n",
       "      <td>3022.74</td>\n",
       "      <td>8042.983697</td>\n",
       "      <td>2.470389e+07</td>\n",
       "    </tr>\n",
       "    <tr>\n",
       "      <th>2022-01-20 23:00:00</th>\n",
       "      <td>3061.41</td>\n",
       "      <td>3000.95</td>\n",
       "      <td>3061.81</td>\n",
       "      <td>2986.97</td>\n",
       "      <td>8846.349723</td>\n",
       "      <td>2.669846e+07</td>\n",
       "    </tr>\n",
       "    <tr>\n",
       "      <th>2022-01-21 00:00:00</th>\n",
       "      <td>3000.41</td>\n",
       "      <td>2986.14</td>\n",
       "      <td>3008.73</td>\n",
       "      <td>2981.42</td>\n",
       "      <td>677.058938</td>\n",
       "      <td>2.028140e+06</td>\n",
       "    </tr>\n",
       "  </tbody>\n",
       "</table>\n",
       "</div>"
      ],
      "text/plain": [
       "                     Opening price  Closing price  Highest price  \\\n",
       "Date                                                               \n",
       "2022-01-20 20:00:00        3215.74        3195.28        3219.04   \n",
       "2022-01-20 21:00:00        3195.29        3080.74        3197.26   \n",
       "2022-01-20 22:00:00        3080.77        3061.41        3106.49   \n",
       "2022-01-20 23:00:00        3061.41        3000.95        3061.81   \n",
       "2022-01-21 00:00:00        3000.41        2986.14        3008.73   \n",
       "\n",
       "                     Lowest price  Transaction volume  Transaction amount  \n",
       "Date                                                                       \n",
       "2022-01-20 20:00:00       3184.00         3806.383624        1.217706e+07  \n",
       "2022-01-20 21:00:00       3080.04         8957.291509        2.806991e+07  \n",
       "2022-01-20 22:00:00       3022.74         8042.983697        2.470389e+07  \n",
       "2022-01-20 23:00:00       2986.97         8846.349723        2.669846e+07  \n",
       "2022-01-21 00:00:00       2981.42          677.058938        2.028140e+06  "
      ]
     },
     "execution_count": 119,
     "metadata": {},
     "output_type": "execute_result"
    }
   ],
   "source": [
    "df = pd.DataFrame(response_data['data'])\n",
    "\n",
    "df[0] = pd.to_datetime(df[0], unit='s')\n",
    "df.columns =['Date', 'Opening price',  'Closing price' , 'Highest price' , 'Lowest price' , 'Transaction volume' ,  'Transaction amount']\n",
    "df.sort_values(by=['Date'], inplace=True)\n",
    "df.set_index('Date', inplace=True)\n",
    "df = df.astype(float)\n",
    "\n",
    "df.tail()\n"
   ]
  },
  {
   "cell_type": "code",
   "execution_count": 55,
   "metadata": {},
   "outputs": [
    {
     "data": {
      "text/html": [
       "<div>\n",
       "<style scoped>\n",
       "    .dataframe tbody tr th:only-of-type {\n",
       "        vertical-align: middle;\n",
       "    }\n",
       "\n",
       "    .dataframe tbody tr th {\n",
       "        vertical-align: top;\n",
       "    }\n",
       "\n",
       "    .dataframe thead th {\n",
       "        text-align: right;\n",
       "    }\n",
       "</style>\n",
       "<table border=\"1\" class=\"dataframe\">\n",
       "  <thead>\n",
       "    <tr style=\"text-align: right;\">\n",
       "      <th></th>\n",
       "      <th>time</th>\n",
       "      <th>high</th>\n",
       "      <th>low</th>\n",
       "      <th>open</th>\n",
       "      <th>volumefrom</th>\n",
       "      <th>volumeto</th>\n",
       "      <th>close</th>\n",
       "      <th>conversionType</th>\n",
       "      <th>conversionSymbol</th>\n",
       "    </tr>\n",
       "  </thead>\n",
       "  <tbody>\n",
       "    <tr>\n",
       "      <th>0</th>\n",
       "      <td>1469836800</td>\n",
       "      <td>657.55</td>\n",
       "      <td>652.06</td>\n",
       "      <td>655.43</td>\n",
       "      <td>19354.41</td>\n",
       "      <td>12721755.54</td>\n",
       "      <td>654.74</td>\n",
       "      <td>direct</td>\n",
       "      <td></td>\n",
       "    </tr>\n",
       "    <tr>\n",
       "      <th>1</th>\n",
       "      <td>1469923200</td>\n",
       "      <td>654.92</td>\n",
       "      <td>621.42</td>\n",
       "      <td>654.74</td>\n",
       "      <td>62887.74</td>\n",
       "      <td>39918066.14</td>\n",
       "      <td>621.87</td>\n",
       "      <td>direct</td>\n",
       "      <td></td>\n",
       "    </tr>\n",
       "    <tr>\n",
       "      <th>2</th>\n",
       "      <td>1470009600</td>\n",
       "      <td>627.89</td>\n",
       "      <td>603.55</td>\n",
       "      <td>621.87</td>\n",
       "      <td>66660.27</td>\n",
       "      <td>41229298.83</td>\n",
       "      <td>607.00</td>\n",
       "      <td>direct</td>\n",
       "      <td></td>\n",
       "    </tr>\n",
       "    <tr>\n",
       "      <th>3</th>\n",
       "      <td>1470096000</td>\n",
       "      <td>613.75</td>\n",
       "      <td>471.36</td>\n",
       "      <td>607.00</td>\n",
       "      <td>130913.66</td>\n",
       "      <td>75338595.54</td>\n",
       "      <td>513.43</td>\n",
       "      <td>direct</td>\n",
       "      <td></td>\n",
       "    </tr>\n",
       "    <tr>\n",
       "      <th>4</th>\n",
       "      <td>1470182400</td>\n",
       "      <td>573.06</td>\n",
       "      <td>514.09</td>\n",
       "      <td>513.43</td>\n",
       "      <td>85930.35</td>\n",
       "      <td>47170751.56</td>\n",
       "      <td>566.44</td>\n",
       "      <td>direct</td>\n",
       "      <td></td>\n",
       "    </tr>\n",
       "  </tbody>\n",
       "</table>\n",
       "</div>"
      ],
      "text/plain": [
       "         time    high     low    open  volumefrom     volumeto   close  \\\n",
       "0  1469836800  657.55  652.06  655.43    19354.41  12721755.54  654.74   \n",
       "1  1469923200  654.92  621.42  654.74    62887.74  39918066.14  621.87   \n",
       "2  1470009600  627.89  603.55  621.87    66660.27  41229298.83  607.00   \n",
       "3  1470096000  613.75  471.36  607.00   130913.66  75338595.54  513.43   \n",
       "4  1470182400  573.06  514.09  513.43    85930.35  47170751.56  566.44   \n",
       "\n",
       "  conversionType conversionSymbol  \n",
       "0         direct                   \n",
       "1         direct                   \n",
       "2         direct                   \n",
       "3         direct                   \n",
       "4         direct                   "
      ]
     },
     "execution_count": 55,
     "metadata": {},
     "output_type": "execute_result"
    }
   ],
   "source": [
    "# API\n",
    "ticker = \"ETH\"\n",
    "limit =\"2000\"\n",
    "\n",
    "price_url = f\"https://min-api.cryptocompare.com/data/v2/histoday?fsym={ticker}&tsym=USD&limit=2000\"\n",
    "\n",
    "price_response_data = requests.get(price_url).json()\n",
    "data_price = pd.DataFrame(price_response_data[\"Data\"][\"Data\"])\n",
    "\n",
    "data_price.head()"
   ]
  },
  {
   "cell_type": "code",
   "execution_count": 56,
   "metadata": {},
   "outputs": [
    {
     "data": {
      "text/html": [
       "<div>\n",
       "<style scoped>\n",
       "    .dataframe tbody tr th:only-of-type {\n",
       "        vertical-align: middle;\n",
       "    }\n",
       "\n",
       "    .dataframe tbody tr th {\n",
       "        vertical-align: top;\n",
       "    }\n",
       "\n",
       "    .dataframe thead th {\n",
       "        text-align: right;\n",
       "    }\n",
       "</style>\n",
       "<table border=\"1\" class=\"dataframe\">\n",
       "  <thead>\n",
       "    <tr style=\"text-align: right;\">\n",
       "      <th></th>\n",
       "      <th>Highest price</th>\n",
       "      <th>Lowest price</th>\n",
       "      <th>Opening price</th>\n",
       "      <th>Closing price</th>\n",
       "    </tr>\n",
       "    <tr>\n",
       "      <th>Date</th>\n",
       "      <th></th>\n",
       "      <th></th>\n",
       "      <th></th>\n",
       "      <th></th>\n",
       "    </tr>\n",
       "  </thead>\n",
       "  <tbody>\n",
       "    <tr>\n",
       "      <th>2016-07-30</th>\n",
       "      <td>657.55</td>\n",
       "      <td>652.06</td>\n",
       "      <td>655.43</td>\n",
       "      <td>654.74</td>\n",
       "    </tr>\n",
       "    <tr>\n",
       "      <th>2016-07-31</th>\n",
       "      <td>654.92</td>\n",
       "      <td>621.42</td>\n",
       "      <td>654.74</td>\n",
       "      <td>621.87</td>\n",
       "    </tr>\n",
       "    <tr>\n",
       "      <th>2016-08-01</th>\n",
       "      <td>627.89</td>\n",
       "      <td>603.55</td>\n",
       "      <td>621.87</td>\n",
       "      <td>607.00</td>\n",
       "    </tr>\n",
       "    <tr>\n",
       "      <th>2016-08-02</th>\n",
       "      <td>613.75</td>\n",
       "      <td>471.36</td>\n",
       "      <td>607.00</td>\n",
       "      <td>513.43</td>\n",
       "    </tr>\n",
       "    <tr>\n",
       "      <th>2016-08-03</th>\n",
       "      <td>573.06</td>\n",
       "      <td>514.09</td>\n",
       "      <td>513.43</td>\n",
       "      <td>566.44</td>\n",
       "    </tr>\n",
       "  </tbody>\n",
       "</table>\n",
       "</div>"
      ],
      "text/plain": [
       "            Highest price  Lowest price  Opening price  Closing price\n",
       "Date                                                                 \n",
       "2016-07-30         657.55        652.06         655.43         654.74\n",
       "2016-07-31         654.92        621.42         654.74         621.87\n",
       "2016-08-01         627.89        603.55         621.87         607.00\n",
       "2016-08-02         613.75        471.36         607.00         513.43\n",
       "2016-08-03         573.06        514.09         513.43         566.44"
      ]
     },
     "execution_count": 56,
     "metadata": {},
     "output_type": "execute_result"
    }
   ],
   "source": [
    "# Transform to DataFrame\n",
    "data_price.drop(columns = [\"volumefrom\" , \"volumeto\" , \"conversionType\" , \"conversionSymbol\"], inplace =True)\n",
    "\n",
    "data_price.columns =['Date', 'Highest price',  'Lowest price' ,  'Opening price' , 'Closing price']\n",
    "data_price['Date'] = pd.to_datetime(data_price['Date'], unit='s')\n",
    "\n",
    "data_price.set_index('Date', inplace=True)\n",
    "\n",
    "data_price.head()"
   ]
  },
  {
   "cell_type": "code",
   "execution_count": 74,
   "metadata": {},
   "outputs": [
    {
     "data": {
      "text/html": [
       "<div>\n",
       "<style scoped>\n",
       "    .dataframe tbody tr th:only-of-type {\n",
       "        vertical-align: middle;\n",
       "    }\n",
       "\n",
       "    .dataframe tbody tr th {\n",
       "        vertical-align: top;\n",
       "    }\n",
       "\n",
       "    .dataframe thead th {\n",
       "        text-align: right;\n",
       "    }\n",
       "</style>\n",
       "<table border=\"1\" class=\"dataframe\">\n",
       "  <thead>\n",
       "    <tr style=\"text-align: right;\">\n",
       "      <th></th>\n",
       "      <th>Closing price</th>\n",
       "    </tr>\n",
       "    <tr>\n",
       "      <th>Date</th>\n",
       "      <th></th>\n",
       "    </tr>\n",
       "  </thead>\n",
       "  <tbody>\n",
       "    <tr>\n",
       "      <th>2020-02-23</th>\n",
       "      <td>9977.39</td>\n",
       "    </tr>\n",
       "    <tr>\n",
       "      <th>2020-02-24</th>\n",
       "      <td>9664.21</td>\n",
       "    </tr>\n",
       "    <tr>\n",
       "      <th>2020-02-25</th>\n",
       "      <td>9316.18</td>\n",
       "    </tr>\n",
       "    <tr>\n",
       "      <th>2020-02-26</th>\n",
       "      <td>8793.50</td>\n",
       "    </tr>\n",
       "    <tr>\n",
       "      <th>2020-02-27</th>\n",
       "      <td>8821.50</td>\n",
       "    </tr>\n",
       "  </tbody>\n",
       "</table>\n",
       "</div>"
      ],
      "text/plain": [
       "            Closing price\n",
       "Date                     \n",
       "2020-02-23        9977.39\n",
       "2020-02-24        9664.21\n",
       "2020-02-25        9316.18\n",
       "2020-02-26        8793.50\n",
       "2020-02-27        8821.50"
      ]
     },
     "execution_count": 74,
     "metadata": {},
     "output_type": "execute_result"
    }
   ],
   "source": [
    "# Select only dates starting end 2019, because the price curve is distincly different\n",
    "df = data_price.loc[\"2018-1-1\" : \"2020-02-27\"].drop(columns = [\"Highest price\",\"Lowest price\", \"Opening price\"])\n",
    "df.tail()"
   ]
  },
  {
   "cell_type": "code",
   "execution_count": 115,
   "metadata": {},
   "outputs": [],
   "source": [
    "# This function accepts the column number for the features (X) and the target (y)\n",
    "# It chunks the data up with a rolling window of Xt-n to predict Xt\n",
    "# It returns a numpy array of X any y\n",
    "def window_data(df, window, feature_col_number, target_col_number):\n",
    "    X = []\n",
    "    y = []\n",
    "    for i in range(len(df) - window - 1):\n",
    "        features = df.iloc[i:(i + window), feature_col_number]\n",
    "        target = df.iloc[(i + window), target_col_number]\n",
    "        X.append(features)\n",
    "        y.append(target)\n",
    "    return np.array(X), np.array(y).reshape(-1, 1)"
   ]
  },
  {
   "cell_type": "code",
   "execution_count": 134,
   "metadata": {},
   "outputs": [],
   "source": [
    "# Predict Closing Prices using a 10 day window of previous closing prices\n",
    "# Then, experiment with window sizes anywhere from 1 to 10 and see how the model performance changes\n",
    "window_size = 10\n",
    "\n",
    "# Column index 3 is the `Close` column\n",
    "feature_column = 1\n",
    "target_column = 1\n",
    "X, y = window_data(df, window_size, feature_column, target_column)"
   ]
  },
  {
   "cell_type": "code",
   "execution_count": 135,
   "metadata": {},
   "outputs": [],
   "source": [
    "# Use 70% of the data for training and the remaineder for testing\n",
    "split = int(0.7 * len(X))\n",
    "X_train = X[: split]\n",
    "X_test = X[split:]\n",
    "y_train = y[: split]\n",
    "y_test = y[split:]"
   ]
  },
  {
   "cell_type": "code",
   "execution_count": 136,
   "metadata": {},
   "outputs": [],
   "source": [
    "# Use the MinMaxScaler to scale data between 0 and 1.\n",
    "from sklearn.preprocessing import MinMaxScaler\n",
    "\n",
    "# Create a MinMaxScaler object\n",
    "X_scaler = MinMaxScaler()\n",
    "Y_scaler = MinMaxScaler()\n",
    "# Fit the MinMaxScaler object with the training feature data X_train\n",
    "X_scaler.fit(X_train)\n",
    "\n",
    "# Scale the features training and testing sets\n",
    "X_train = X_scaler.transform(X_train)\n",
    "X_test = X_scaler.transform(X_test)\n",
    "\n",
    "# Fit the MinMaxScaler object with the training target data y_train\n",
    "Y_scaler.fit(y_train)\n",
    "\n",
    "# Scale the target training and testing sets\n",
    "y_train = Y_scaler.transform(y_train)\n",
    "y_test = Y_scaler.transform(y_test)\n"
   ]
  },
  {
   "cell_type": "code",
   "execution_count": 137,
   "metadata": {},
   "outputs": [],
   "source": [
    "# Reshape the features for the model\n",
    "X_train = X_train.reshape((X_train.shape[0], X_train.shape[1], 1))\n",
    "X_test = X_test.reshape((X_test.shape[0], X_test.shape[1], 1))"
   ]
  },
  {
   "cell_type": "markdown",
   "metadata": {},
   "source": [
    "---"
   ]
  },
  {
   "cell_type": "markdown",
   "metadata": {},
   "source": [
    "## Build and Train the LSTM RNN\n",
    "\n",
    "In this section, you will design a custom LSTM RNN and fit (train) it using the training data.\n",
    "\n",
    "You will need to:\n",
    "1. Define the model architecture\n",
    "2. Compile the model\n",
    "3. Fit the model to the training data\n",
    "\n",
    "### Hints:\n",
    "You will want to use the same model architecture and random seed for both notebooks. This is necessary to accurately compare the performance of the FNG model vs the closing price model. "
   ]
  },
  {
   "cell_type": "code",
   "execution_count": 138,
   "metadata": {},
   "outputs": [],
   "source": [
    "from tensorflow.keras.models import Sequential\n",
    "from tensorflow.keras.layers import LSTM, Dense, Dropout"
   ]
  },
  {
   "cell_type": "code",
   "execution_count": 139,
   "metadata": {},
   "outputs": [],
   "source": [
    "# Build the LSTM model. \n",
    "# The return sequences need to be set to True if you are adding additional LSTM layers, but \n",
    "# You don't have to do this for the final layer. \n",
    "# Note: The dropouts help prevent overfitting\n",
    "# Note: The input shape is the number of time steps and the number of indicators\n",
    "# Note: Batching inputs has a different input shape of Samples/TimeSteps/Features\n",
    "\n",
    "model = Sequential()\n",
    "\n",
    "number_units = window_size\n",
    "dropout_fraction = 0.2\n",
    "\n",
    "# Layer 1\n",
    "model.add(LSTM(\n",
    "    units=3*number_units,\n",
    "    return_sequences=True,\n",
    "    input_shape=(X_train.shape[1], 1))\n",
    "    )\n",
    "model.add(Dropout(dropout_fraction))\n",
    "\n",
    "# Layer 2\n",
    "model.add(LSTM(units=number_units, return_sequences=True))\n",
    "\n",
    "\n",
    "# Layer 3\n",
    "model.add(LSTM(units=number_units))\n",
    "model.add(Dropout(dropout_fraction))\n",
    "\n",
    "# Output layer\n",
    "model.add(Dense(1))\n"
   ]
  },
  {
   "cell_type": "code",
   "execution_count": 140,
   "metadata": {},
   "outputs": [],
   "source": [
    "# Compile the model\n",
    "model.compile(optimizer=\"adam\", loss=\"mean_squared_error\")"
   ]
  },
  {
   "cell_type": "code",
   "execution_count": 141,
   "metadata": {},
   "outputs": [
    {
     "name": "stdout",
     "output_type": "stream",
     "text": [
      "Model: \"sequential_6\"\n",
      "_________________________________________________________________\n",
      " Layer (type)                Output Shape              Param #   \n",
      "=================================================================\n",
      " lstm_18 (LSTM)              (None, 10, 30)            3840      \n",
      "                                                                 \n",
      " dropout_12 (Dropout)        (None, 10, 30)            0         \n",
      "                                                                 \n",
      " lstm_19 (LSTM)              (None, 10, 10)            1640      \n",
      "                                                                 \n",
      " lstm_20 (LSTM)              (None, 10)                840       \n",
      "                                                                 \n",
      " dropout_13 (Dropout)        (None, 10)                0         \n",
      "                                                                 \n",
      " dense_6 (Dense)             (None, 1)                 11        \n",
      "                                                                 \n",
      "=================================================================\n",
      "Total params: 6,331\n",
      "Trainable params: 6,331\n",
      "Non-trainable params: 0\n",
      "_________________________________________________________________\n"
     ]
    }
   ],
   "source": [
    "# Summarize the model\n",
    "model.summary()"
   ]
  },
  {
   "cell_type": "code",
   "execution_count": 142,
   "metadata": {},
   "outputs": [
    {
     "name": "stdout",
     "output_type": "stream",
     "text": [
      "Epoch 1/10\n",
      "833/833 [==============================] - 12s 10ms/step - loss: 0.0238 - val_loss: 0.0268\n",
      "Epoch 2/10\n",
      "833/833 [==============================] - 7s 8ms/step - loss: 0.0154 - val_loss: 0.0294\n",
      "Epoch 3/10\n",
      "833/833 [==============================] - 6s 8ms/step - loss: 0.0155 - val_loss: 0.0290\n",
      "Epoch 4/10\n",
      "833/833 [==============================] - 6s 7ms/step - loss: 0.0163 - val_loss: 0.0266\n",
      "Epoch 5/10\n",
      "833/833 [==============================] - 7s 9ms/step - loss: 0.0160 - val_loss: 0.0287\n",
      "Epoch 6/10\n",
      "833/833 [==============================] - 7s 8ms/step - loss: 0.0157 - val_loss: 0.0294\n",
      "Epoch 7/10\n",
      "833/833 [==============================] - 7s 9ms/step - loss: 0.0140 - val_loss: 0.0304\n",
      "Epoch 8/10\n",
      "833/833 [==============================] - 7s 9ms/step - loss: 0.0122 - val_loss: 0.0286\n",
      "Epoch 9/10\n",
      "833/833 [==============================] - 7s 8ms/step - loss: 0.0096 - val_loss: 0.0285\n",
      "Epoch 10/10\n",
      "833/833 [==============================] - 7s 8ms/step - loss: 0.0083 - val_loss: 0.0243\n"
     ]
    },
    {
     "data": {
      "text/plain": [
       "<keras.callbacks.History at 0x23995f9a3c8>"
      ]
     },
     "execution_count": 142,
     "metadata": {},
     "output_type": "execute_result"
    }
   ],
   "source": [
    "# Train the model\n",
    "# Use at least 10 epochs\n",
    "# Do not shuffle the data\n",
    "# Experiement with the batch size, but a smaller batch size is recommended\n",
    "batch = 1 \n",
    "epoch = 10\n",
    "\n",
    "model.fit(X_train, y_train , validation_split=0.2, epochs=epoch, shuffle=False, batch_size=batch, verbose=1)"
   ]
  },
  {
   "cell_type": "markdown",
   "metadata": {},
   "source": [
    "---"
   ]
  },
  {
   "cell_type": "markdown",
   "metadata": {},
   "source": [
    "## Model Performance\n",
    "\n",
    "In this section, you will evaluate the model using the test data. \n",
    "\n",
    "You will need to:\n",
    "1. Evaluate the model using the `X_test` and `y_test` data.\n",
    "2. Use the X_test data to make predictions\n",
    "3. Create a DataFrame of Real (y_test) vs predicted values. \n",
    "4. Plot the Real vs predicted values as a line chart\n",
    "\n",
    "### Hints\n",
    "Remember to apply the `inverse_transform` function to the predicted and y_test values to recover the actual closing prices."
   ]
  },
  {
   "cell_type": "code",
   "execution_count": 143,
   "metadata": {},
   "outputs": [
    {
     "name": "stdout",
     "output_type": "stream",
     "text": [
      "14/14 [==============================] - 1s 4ms/step - loss: 0.3220\n"
     ]
    },
    {
     "data": {
      "text/plain": [
       "{'loss': 0.32202884554862976}"
      ]
     },
     "execution_count": 143,
     "metadata": {},
     "output_type": "execute_result"
    }
   ],
   "source": [
    "# Evaluate the model\n",
    "model.evaluate(X_test, y_test, return_dict=True)"
   ]
  },
  {
   "cell_type": "code",
   "execution_count": 144,
   "metadata": {},
   "outputs": [],
   "source": [
    "# Make some predictions\n",
    "prediction =  model.predict(X_test)"
   ]
  },
  {
   "cell_type": "code",
   "execution_count": 145,
   "metadata": {},
   "outputs": [],
   "source": [
    "# Recover the original prices instead of the scaled version\n",
    "predicted_prices = Y_scaler.inverse_transform(prediction)\n",
    "real_prices = Y_scaler.inverse_transform(y_test.reshape(-1, 1))"
   ]
  },
  {
   "cell_type": "code",
   "execution_count": 146,
   "metadata": {},
   "outputs": [
    {
     "data": {
      "text/html": [
       "<div>\n",
       "<style scoped>\n",
       "    .dataframe tbody tr th:only-of-type {\n",
       "        vertical-align: middle;\n",
       "    }\n",
       "\n",
       "    .dataframe tbody tr th {\n",
       "        vertical-align: top;\n",
       "    }\n",
       "\n",
       "    .dataframe thead th {\n",
       "        text-align: right;\n",
       "    }\n",
       "</style>\n",
       "<table border=\"1\" class=\"dataframe\">\n",
       "  <thead>\n",
       "    <tr style=\"text-align: right;\">\n",
       "      <th></th>\n",
       "      <th>Real</th>\n",
       "      <th>Predicted</th>\n",
       "    </tr>\n",
       "    <tr>\n",
       "      <th>Date</th>\n",
       "      <th></th>\n",
       "      <th></th>\n",
       "    </tr>\n",
       "  </thead>\n",
       "  <tbody>\n",
       "    <tr>\n",
       "      <th>2022-01-02 10:00:00</th>\n",
       "      <td>3753.94</td>\n",
       "      <td>3975.753418</td>\n",
       "    </tr>\n",
       "    <tr>\n",
       "      <th>2022-01-02 11:00:00</th>\n",
       "      <td>3743.55</td>\n",
       "      <td>3976.384277</td>\n",
       "    </tr>\n",
       "    <tr>\n",
       "      <th>2022-01-02 12:00:00</th>\n",
       "      <td>3743.67</td>\n",
       "      <td>3976.854248</td>\n",
       "    </tr>\n",
       "    <tr>\n",
       "      <th>2022-01-02 13:00:00</th>\n",
       "      <td>3754.23</td>\n",
       "      <td>3976.972412</td>\n",
       "    </tr>\n",
       "    <tr>\n",
       "      <th>2022-01-02 14:00:00</th>\n",
       "      <td>3744.96</td>\n",
       "      <td>3977.106445</td>\n",
       "    </tr>\n",
       "  </tbody>\n",
       "</table>\n",
       "</div>"
      ],
      "text/plain": [
       "                        Real    Predicted\n",
       "Date                                     \n",
       "2022-01-02 10:00:00  3753.94  3975.753418\n",
       "2022-01-02 11:00:00  3743.55  3976.384277\n",
       "2022-01-02 12:00:00  3743.67  3976.854248\n",
       "2022-01-02 13:00:00  3754.23  3976.972412\n",
       "2022-01-02 14:00:00  3744.96  3977.106445"
      ]
     },
     "execution_count": 146,
     "metadata": {},
     "output_type": "execute_result"
    }
   ],
   "source": [
    "# Create a DataFrame of Real and Predicted values\n",
    "stocks = pd.DataFrame({\n",
    "    \"Real\": real_prices.ravel(),\n",
    "    \"Predicted\": predicted_prices.ravel()\n",
    "}, index = df.index[-len(real_prices): ]) \n",
    "stocks.head()"
   ]
  },
  {
   "cell_type": "code",
   "execution_count": 147,
   "metadata": {},
   "outputs": [
    {
     "data": {},
     "metadata": {},
     "output_type": "display_data"
    },
    {
     "data": {
      "application/vnd.holoviews_exec.v0+json": "",
      "text/html": [
       "<div id='3237'>\n",
       "\n",
       "\n",
       "\n",
       "\n",
       "\n",
       "  <div class=\"bk-root\" id=\"6fe7098a-a46e-4644-80fc-a9ca93a4665b\" data-root-id=\"3237\"></div>\n",
       "</div>\n",
       "<script type=\"application/javascript\">(function(root) {\n",
       "  function embed_document(root) {\n",
       "    var docs_json = {\"d83ecb10-495b-4b00-a61f-caa5058209b3\":{\"defs\":[{\"extends\":null,\"module\":null,\"name\":\"ReactiveHTML1\",\"overrides\":[],\"properties\":[]},{\"extends\":null,\"module\":null,\"name\":\"FlexBox1\",\"overrides\":[],\"properties\":[{\"default\":\"flex-start\",\"kind\":null,\"name\":\"align_content\"},{\"default\":\"flex-start\",\"kind\":null,\"name\":\"align_items\"},{\"default\":\"row\",\"kind\":null,\"name\":\"flex_direction\"},{\"default\":\"wrap\",\"kind\":null,\"name\":\"flex_wrap\"},{\"default\":\"flex-start\",\"kind\":null,\"name\":\"justify_content\"}]},{\"extends\":null,\"module\":null,\"name\":\"TemplateActions1\",\"overrides\":[],\"properties\":[{\"default\":0,\"kind\":null,\"name\":\"open_modal\"},{\"default\":0,\"kind\":null,\"name\":\"close_modal\"}]},{\"extends\":null,\"module\":null,\"name\":\"MaterialTemplateActions1\",\"overrides\":[],\"properties\":[{\"default\":0,\"kind\":null,\"name\":\"open_modal\"},{\"default\":0,\"kind\":null,\"name\":\"close_modal\"}]}],\"roots\":{\"references\":[{\"attributes\":{\"coordinates\":null,\"data_source\":{\"id\":\"3279\"},\"glyph\":{\"id\":\"3282\"},\"group\":null,\"hover_glyph\":null,\"muted_glyph\":{\"id\":\"3284\"},\"nonselection_glyph\":{\"id\":\"3283\"},\"selection_glyph\":{\"id\":\"3311\"},\"view\":{\"id\":\"3286\"}},\"id\":\"3285\",\"type\":\"GlyphRenderer\"},{\"attributes\":{\"months\":[0,4,8]},\"id\":\"3306\",\"type\":\"MonthsTicker\"},{\"attributes\":{\"months\":[0,2,4,6,8,10]},\"id\":\"3305\",\"type\":\"MonthsTicker\"},{\"attributes\":{\"line_alpha\":0.2,\"line_color\":\"#fc4f30\",\"line_width\":2,\"x\":{\"field\":\"Date\"},\"y\":{\"field\":\"value\"}},\"id\":\"3317\",\"type\":\"Line\"},{\"attributes\":{\"months\":[0,6]},\"id\":\"3307\",\"type\":\"MonthsTicker\"},{\"attributes\":{\"line_alpha\":0.1,\"line_color\":\"#30a2da\",\"line_width\":2,\"x\":{\"field\":\"Date\"},\"y\":{\"field\":\"value\"}},\"id\":\"3283\",\"type\":\"Line\"},{\"attributes\":{},\"id\":\"3275\",\"type\":\"AllLabels\"},{\"attributes\":{},\"id\":\"3294\",\"type\":\"UnionRenderers\"},{\"attributes\":{},\"id\":\"3278\",\"type\":\"AllLabels\"},{\"attributes\":{\"axis_label\":\"Date\",\"coordinates\":null,\"formatter\":{\"id\":\"3274\"},\"group\":null,\"major_label_policy\":{\"id\":\"3275\"},\"ticker\":{\"id\":\"3253\"}},\"id\":\"3252\",\"type\":\"DatetimeAxis\"},{\"attributes\":{\"below\":[{\"id\":\"3252\"}],\"center\":[{\"id\":\"3255\"},{\"id\":\"3259\"}],\"height\":300,\"left\":[{\"id\":\"3256\"}],\"margin\":[5,5,5,5],\"min_border_bottom\":10,\"min_border_left\":10,\"min_border_right\":10,\"min_border_top\":10,\"renderers\":[{\"id\":\"3285\"},{\"id\":\"3318\"}],\"right\":[{\"id\":\"3309\"}],\"sizing_mode\":\"fixed\",\"title\":{\"id\":\"3244\"},\"toolbar\":{\"id\":\"3266\"},\"width\":700,\"x_range\":{\"id\":\"3239\"},\"x_scale\":{\"id\":\"3248\"},\"y_range\":{\"id\":\"3240\"},\"y_scale\":{\"id\":\"3250\"}},\"id\":\"3243\",\"subtype\":\"Figure\",\"type\":\"Plot\"},{\"attributes\":{},\"id\":\"3313\",\"type\":\"Selection\"},{\"attributes\":{\"tools\":[{\"id\":\"3241\"},{\"id\":\"3260\"},{\"id\":\"3261\"},{\"id\":\"3262\"},{\"id\":\"3263\"},{\"id\":\"3264\"}]},\"id\":\"3266\",\"type\":\"Toolbar\"},{\"attributes\":{\"line_alpha\":0.1,\"line_color\":\"#fc4f30\",\"line_width\":2,\"x\":{\"field\":\"Date\"},\"y\":{\"field\":\"value\"}},\"id\":\"3316\",\"type\":\"Line\"},{\"attributes\":{\"bottom_units\":\"screen\",\"coordinates\":null,\"fill_alpha\":0.5,\"fill_color\":\"lightgrey\",\"group\":null,\"left_units\":\"screen\",\"level\":\"overlay\",\"line_alpha\":1.0,\"line_color\":\"black\",\"line_dash\":[4,4],\"line_width\":2,\"right_units\":\"screen\",\"syncable\":false,\"top_units\":\"screen\"},\"id\":\"3265\",\"type\":\"BoxAnnotation\"},{\"attributes\":{},\"id\":\"3308\",\"type\":\"YearsTicker\"},{\"attributes\":{\"click_policy\":\"mute\",\"coordinates\":null,\"group\":null,\"items\":[{\"id\":\"3310\"},{\"id\":\"3344\"}],\"location\":[0,0],\"title\":\"Variable\"},\"id\":\"3309\",\"type\":\"Legend\"},{\"attributes\":{},\"id\":\"3260\",\"type\":\"SaveTool\"},{\"attributes\":{},\"id\":\"3277\",\"type\":\"BasicTickFormatter\"},{\"attributes\":{\"days\":[1,2,3,4,5,6,7,8,9,10,11,12,13,14,15,16,17,18,19,20,21,22,23,24,25,26,27,28,29,30,31]},\"id\":\"3300\",\"type\":\"DaysTicker\"},{\"attributes\":{},\"id\":\"3261\",\"type\":\"PanTool\"},{\"attributes\":{\"source\":{\"id\":\"3279\"}},\"id\":\"3286\",\"type\":\"CDSView\"},{\"attributes\":{},\"id\":\"3264\",\"type\":\"ResetTool\"},{\"attributes\":{},\"id\":\"3329\",\"type\":\"UnionRenderers\"},{\"attributes\":{},\"id\":\"3248\",\"type\":\"LinearScale\"},{\"attributes\":{},\"id\":\"3262\",\"type\":\"WheelZoomTool\"},{\"attributes\":{\"mantissas\":[1,2,5],\"max_interval\":500.0,\"num_minor_ticks\":0},\"id\":\"3297\",\"type\":\"AdaptiveTicker\"},{\"attributes\":{\"overlay\":{\"id\":\"3265\"}},\"id\":\"3263\",\"type\":\"BoxZoomTool\"},{\"attributes\":{\"base\":60,\"mantissas\":[1,2,5,10,15,20,30],\"max_interval\":1800000.0,\"min_interval\":1000.0,\"num_minor_ticks\":0},\"id\":\"3298\",\"type\":\"AdaptiveTicker\"},{\"attributes\":{\"label\":{\"value\":\"Real\"},\"renderers\":[{\"id\":\"3285\"}]},\"id\":\"3310\",\"type\":\"LegendItem\"},{\"attributes\":{\"base\":24,\"mantissas\":[1,2,4,6,8,12],\"max_interval\":43200000.0,\"min_interval\":3600000.0,\"num_minor_ticks\":0},\"id\":\"3299\",\"type\":\"AdaptiveTicker\"},{\"attributes\":{\"label\":{\"value\":\"Predicted\"},\"renderers\":[{\"id\":\"3318\"}]},\"id\":\"3344\",\"type\":\"LegendItem\"},{\"attributes\":{\"margin\":[5,5,5,5],\"name\":\"HSpacer03879\",\"sizing_mode\":\"stretch_width\"},\"id\":\"3562\",\"type\":\"Spacer\"},{\"attributes\":{\"coordinates\":null,\"group\":null,\"text_color\":\"black\",\"text_font_size\":\"12pt\"},\"id\":\"3244\",\"type\":\"Title\"},{\"attributes\":{\"line_color\":\"#fc4f30\",\"line_width\":2,\"x\":{\"field\":\"Date\"},\"y\":{\"field\":\"value\"}},\"id\":\"3345\",\"type\":\"Line\"},{\"attributes\":{},\"id\":\"3274\",\"type\":\"DatetimeTickFormatter\"},{\"attributes\":{\"days\":[1,4,7,10,13,16,19,22,25,28]},\"id\":\"3301\",\"type\":\"DaysTicker\"},{\"attributes\":{\"children\":[{\"id\":\"3238\"},{\"id\":\"3243\"},{\"id\":\"3562\"}],\"margin\":[0,0,0,0],\"name\":\"Row03874\",\"tags\":[\"embedded\"]},\"id\":\"3237\",\"type\":\"Row\"},{\"attributes\":{\"callback\":null,\"formatters\":{\"@{Date}\":\"datetime\"},\"renderers\":[{\"id\":\"3285\"},{\"id\":\"3318\"}],\"tags\":[\"hv_created\"],\"tooltips\":[[\"Variable\",\"@{Variable}\"],[\"Date\",\"@{Date}{%F %T}\"],[\"value\",\"@{value}\"]]},\"id\":\"3241\",\"type\":\"HoverTool\"},{\"attributes\":{},\"id\":\"3257\",\"type\":\"BasicTicker\"},{\"attributes\":{},\"id\":\"3280\",\"type\":\"Selection\"},{\"attributes\":{\"end\":1642723200000.0,\"reset_end\":1642723200000.0,\"reset_start\":1641117600000.0,\"start\":1641117600000.0,\"tags\":[[[\"Date\",\"Date\",null]]]},\"id\":\"3239\",\"type\":\"Range1d\"},{\"attributes\":{\"line_color\":\"#30a2da\",\"line_width\":2,\"x\":{\"field\":\"Date\"},\"y\":{\"field\":\"value\"}},\"id\":\"3282\",\"type\":\"Line\"},{\"attributes\":{\"num_minor_ticks\":5,\"tickers\":[{\"id\":\"3297\"},{\"id\":\"3298\"},{\"id\":\"3299\"},{\"id\":\"3300\"},{\"id\":\"3301\"},{\"id\":\"3302\"},{\"id\":\"3303\"},{\"id\":\"3304\"},{\"id\":\"3305\"},{\"id\":\"3306\"},{\"id\":\"3307\"},{\"id\":\"3308\"}]},\"id\":\"3253\",\"type\":\"DatetimeTicker\"},{\"attributes\":{\"months\":[0,1,2,3,4,5,6,7,8,9,10,11]},\"id\":\"3304\",\"type\":\"MonthsTicker\"},{\"attributes\":{\"data\":{\"Date\":{\"__ndarray__\":\"AACQtKPhd0IAAHgjp+F3QgAAYJKq4XdCAABIAa7hd0IAADBwseF3QgAAGN+04XdCAAAATrjhd0IAAOi8u+F3QgAA0Cu/4XdCAAC4msLhd0IAAKAJxuF3QgAAiHjJ4XdCAABw58zhd0IAAFhW0OF3QgAAQMXT4XdCAAAoNNfhd0IAABCj2uF3QgAA+BHe4XdCAADggOHhd0IAAMjv5OF3QgAAsF7o4XdCAACYzevhd0IAAIA87+F3QgAAaKvy4XdCAABQGvbhd0IAADiJ+eF3QgAAIPj84XdCAAAIZwDid0IAAPDVA+J3QgAA2EQH4ndCAADAswrid0IAAKgiDuJ3QgAAkJER4ndCAAB4ABXid0IAAGBvGOJ3QgAASN4b4ndCAAAwTR/id0IAABi8IuJ3QgAAACsm4ndCAADomSnid0IAANAILeJ3QgAAuHcw4ndCAACg5jPid0IAAIhVN+J3QgAAcMQ64ndCAABYMz7id0IAAECiQeJ3QgAAKBFF4ndCAAAQgEjid0IAAPjuS+J3QgAA4F1P4ndCAADIzFLid0IAALA7VuJ3QgAAmKpZ4ndCAACAGV3id0IAAGiIYOJ3QgAAUPdj4ndCAAA4Zmfid0IAACDVauJ3QgAACERu4ndCAADwsnHid0IAANghdeJ3QgAAwJB44ndCAACo/3vid0IAAJBuf+J3QgAAeN2C4ndCAABgTIbid0IAAEi7ieJ3QgAAMCqN4ndCAAAYmZDid0IAAAAIlOJ3QgAA6HaX4ndCAADQ5Zrid0IAALhUnuJ3QgAAoMOh4ndCAACIMqXid0IAAHChqOJ3QgAAWBCs4ndCAABAf6/id0IAACjusuJ3QgAAEF224ndCAAD4y7nid0IAAOA6veJ3QgAAyKnA4ndCAACwGMTid0IAAJiHx+J3QgAAgPbK4ndCAABoZc7id0IAAFDU0eJ3QgAAOEPV4ndCAAAgstjid0IAAAgh3OJ3QgAA8I/f4ndCAADY/uLid0IAAMBt5uJ3QgAAqNzp4ndCAACQS+3id0IAAHi68OJ3QgAAYCn04ndCAABImPfid0IAADAH++J3QgAAGHb+4ndCAAAA5QHjd0IAAOhTBeN3QgAA0MII43dCAAC4MQzjd0IAAKCgD+N3QgAAiA8T43dCAABwfhbjd0IAAFjtGeN3QgAAQFwd43dCAAAoyyDjd0IAABA6JON3QgAA+Kgn43dCAADgFyvjd0IAAMiGLuN3QgAAsPUx43dCAACYZDXjd0IAAIDTOON3QgAAaEI843dCAABQsT/jd0IAADggQ+N3QgAAII9G43dCAAAI/knjd0IAAPBsTeN3QgAA2NtQ43dCAADASlTjd0IAAKi5V+N3QgAAkChb43dCAAB4l17jd0IAAGAGYuN3QgAASHVl43dCAAAw5Gjjd0IAABhTbON3QgAAAMJv43dCAADoMHPjd0IAANCfduN3QgAAuA5643dCAACgfX3jd0IAAIjsgON3QgAAcFuE43dCAABYyofjd0IAAEA5i+N3QgAAKKiO43dCAAAQF5Ljd0IAAPiFleN3QgAA4PSY43dCAADIY5zjd0IAALDSn+N3QgAAmEGj43dCAACAsKbjd0IAAGgfquN3QgAAUI6t43dCAAA4/bDjd0IAACBstON3QgAACNu343dCAADwSbvjd0IAANi4vuN3QgAAwCfC43dCAAColsXjd0IAAJAFyeN3QgAAeHTM43dCAABg48/jd0IAAEhS0+N3QgAAMMHW43dCAAAYMNrjd0IAAACf3eN3QgAA6A3h43dCAADQfOTjd0IAALjr5+N3QgAAoFrr43dCAACIye7jd0IAAHA48uN3QgAAWKf143dCAABAFvnjd0IAACiF/ON3QgAAEPT/43dCAAD4YgPkd0IAAODRBuR3QgAAyEAK5HdCAACwrw3kd0IAAJgeEeR3QgAAgI0U5HdCAABo/Bfkd0IAAFBrG+R3QgAAONoe5HdCAAAgSSLkd0IAAAi4JeR3QgAA8CYp5HdCAADYlSzkd0IAAMAEMOR3QgAAqHMz5HdCAACQ4jbkd0IAAHhROuR3QgAAYMA95HdCAABIL0Hkd0IAADCeROR3QgAAGA1I5HdCAAAAfEvkd0IAAOjqTuR3QgAA0FlS5HdCAAC4yFXkd0IAAKA3WeR3QgAAiKZc5HdCAABwFWDkd0IAAFiEY+R3QgAAQPNm5HdCAAAoYmrkd0IAABDRbeR3QgAA+D9x5HdCAADgrnTkd0IAAMgdeOR3QgAAsIx75HdCAACY+37kd0IAAIBqguR3QgAAaNmF5HdCAABQSInkd0IAADi3jOR3QgAAICaQ5HdCAAAIlZPkd0IAAPADl+R3QgAA2HKa5HdCAADA4Z3kd0IAAKhQoeR3QgAAkL+k5HdCAAB4Lqjkd0IAAGCdq+R3QgAASAyv5HdCAAAwe7Lkd0IAABjqteR3QgAAAFm55HdCAADox7zkd0IAANA2wOR3QgAAuKXD5HdCAACgFMfkd0IAAIiDyuR3QgAAcPLN5HdCAABYYdHkd0IAAEDQ1OR3QgAAKD/Y5HdCAAAQrtvkd0IAAPgc3+R3QgAA4Ivi5HdCAADI+uXkd0IAALBp6eR3QgAAmNjs5HdCAACAR/Dkd0IAAGi28+R3QgAAUCX35HdCAAA4lPrkd0IAACAD/uR3QgAACHIB5XdCAADw4ATld0IAANhPCOV3QgAAwL4L5XdCAACoLQ/ld0IAAJCcEuV3QgAAeAsW5XdCAABgehnld0IAAEjpHOV3QgAAMFgg5XdCAAAYxyPld0IAAAA2J+V3QgAA6KQq5XdCAADQEy7ld0IAALiCMeV3QgAAoPE05XdCAACIYDjld0IAAHDPO+V3QgAAWD4/5XdCAABArULld0IAACgcRuV3QgAAEItJ5XdCAAD4+Uzld0IAAOBoUOV3QgAAyNdT5XdCAACwRlfld0IAAJi1WuV3QgAAgCRe5XdCAABok2Hld0IAAFACZeV3QgAAOHFo5XdCAAAg4Gvld0IAAAhPb+V3QgAA8L1y5XdCAADYLHbld0IAAMCbeeV3QgAAqAp95XdCAACQeYDld0IAAHjog+V3QgAAYFeH5XdCAABIxorld0IAADA1juV3QgAAGKSR5XdCAAAAE5Xld0IAAOiBmOV3QgAA0PCb5XdCAAC4X5/ld0IAAKDOouV3QgAAiD2m5XdCAABwrKnld0IAAFgbreV3QgAAQIqw5XdCAAAo+bPld0IAABBot+V3QgAA+Na65XdCAADgRb7ld0IAAMi0weV3QgAAsCPF5XdCAACYksjld0IAAIABzOV3QgAAaHDP5XdCAABQ39Lld0IAADhO1uV3QgAAIL3Z5XdCAAAILN3ld0IAAPCa4OV3QgAA2Ank5XdCAADAeOfld0IAAKjn6uV3QgAAkFbu5XdCAAB4xfHld0IAAGA09eV3QgAASKP45XdCAAAwEvzld0IAABiB/+V3QgAAAPAC5ndCAADoXgbmd0IAANDNCeZ3QgAAuDwN5ndCAACgqxDmd0IAAIgaFOZ3QgAAcIkX5ndCAABY+Brmd0IAAEBnHuZ3QgAAKNYh5ndCAAAQRSXmd0IAAPizKOZ3QgAA4CIs5ndCAADIkS/md0IAALAAM+Z3QgAAmG825ndCAACA3jnmd0IAAGhNPeZ3QgAAULxA5ndCAAA4K0Tmd0IAACCaR+Z3QgAACAlL5ndCAADwd07md0IAANjmUeZ3QgAAwFVV5ndCAACoxFjmd0IAAJAzXOZ3QgAAeKJf5ndCAABgEWPmd0IAAEiAZuZ3QgAAMO9p5ndCAAAYXm3md0IAAADNcOZ3QgAA6Dt05ndCAADQqnfmd0IAALgZe+Z3QgAAoIh+5ndCAACI94Hmd0IAAHBmheZ3QgAAWNWI5ndCAABARIzmd0IAACizj+Z3QgAAECKT5ndCAAD4kJbmd0IAAOD/meZ3QgAAyG6d5ndCAACw3aDmd0IAAJhMpOZ3QgAAgLun5ndCAABoKqvmd0IAAFCZruZ3QgAAOAiy5ndCAAAgd7Xmd0IAAAjmuOZ3QgAA8FS85ndCAADYw7/md0IAAMAyw+Z3QgAAqKHG5ndCAACQEMrmd0IAAHh/zeZ3QgAAYO7Q5ndCAABIXdTmd0IAADDM1+Z3QgAAGDvb5ndCAAAAqt7md0IAAOgY4uZ3QgAA0Ifl5ndCAAC49ujmd0IAAKBl7OZ3QgAAiNTv5ndCAABwQ/Pmd0IAAFiy9uZ3QgAAQCH65ndCAAAokP3md0IAABD/AOd3QgAA+G0E53dCAADg3Afnd0IAAMhLC+d3QgAAsLoO53dCAACYKRLnd0IAAICYFed3QgAAaAcZ53dCAABQdhznd0IAADjlH+d3QgAAIFQj53dCAAAIwybnd0IAAPAxKud3QgAA2KAt53dCAADADzHnd0IAAKh+NOd3QgAAkO0353dCAAB4XDvnd0IAAGDLPud3QgAASDpC53dCAAAwqUXnd0IAABgYSed3QgAAAIdM53dCAADo9U/nd0IAANBkU+d3QgAAuNNW53dCAACgQlrnd0IAAIixXed3QgAAcCBh53dCAABYj2Tnd0IAAED+Z+d3QgAAKG1r53dCAAAQ3G7nd0IAAPhKcud3QgAA4Ll153dCAADIKHnnd0IAALCXfOd3QgAAmAaA53dCAACAdYPnd0IAAGjkhud3QgAAUFOK53dCAAA4wo3nd0IAACAxked3QgAACKCU53dCAADwDpjnd0IAANh9m+d3QgAAwOye53dC\",\"dtype\":\"float64\",\"order\":\"little\",\"shape\":[447]},\"Variable\":[\"Real\",\"Real\",\"Real\",\"Real\",\"Real\",\"Real\",\"Real\",\"Real\",\"Real\",\"Real\",\"Real\",\"Real\",\"Real\",\"Real\",\"Real\",\"Real\",\"Real\",\"Real\",\"Real\",\"Real\",\"Real\",\"Real\",\"Real\",\"Real\",\"Real\",\"Real\",\"Real\",\"Real\",\"Real\",\"Real\",\"Real\",\"Real\",\"Real\",\"Real\",\"Real\",\"Real\",\"Real\",\"Real\",\"Real\",\"Real\",\"Real\",\"Real\",\"Real\",\"Real\",\"Real\",\"Real\",\"Real\",\"Real\",\"Real\",\"Real\",\"Real\",\"Real\",\"Real\",\"Real\",\"Real\",\"Real\",\"Real\",\"Real\",\"Real\",\"Real\",\"Real\",\"Real\",\"Real\",\"Real\",\"Real\",\"Real\",\"Real\",\"Real\",\"Real\",\"Real\",\"Real\",\"Real\",\"Real\",\"Real\",\"Real\",\"Real\",\"Real\",\"Real\",\"Real\",\"Real\",\"Real\",\"Real\",\"Real\",\"Real\",\"Real\",\"Real\",\"Real\",\"Real\",\"Real\",\"Real\",\"Real\",\"Real\",\"Real\",\"Real\",\"Real\",\"Real\",\"Real\",\"Real\",\"Real\",\"Real\",\"Real\",\"Real\",\"Real\",\"Real\",\"Real\",\"Real\",\"Real\",\"Real\",\"Real\",\"Real\",\"Real\",\"Real\",\"Real\",\"Real\",\"Real\",\"Real\",\"Real\",\"Real\",\"Real\",\"Real\",\"Real\",\"Real\",\"Real\",\"Real\",\"Real\",\"Real\",\"Real\",\"Real\",\"Real\",\"Real\",\"Real\",\"Real\",\"Real\",\"Real\",\"Real\",\"Real\",\"Real\",\"Real\",\"Real\",\"Real\",\"Real\",\"Real\",\"Real\",\"Real\",\"Real\",\"Real\",\"Real\",\"Real\",\"Real\",\"Real\",\"Real\",\"Real\",\"Real\",\"Real\",\"Real\",\"Real\",\"Real\",\"Real\",\"Real\",\"Real\",\"Real\",\"Real\",\"Real\",\"Real\",\"Real\",\"Real\",\"Real\",\"Real\",\"Real\",\"Real\",\"Real\",\"Real\",\"Real\",\"Real\",\"Real\",\"Real\",\"Real\",\"Real\",\"Real\",\"Real\",\"Real\",\"Real\",\"Real\",\"Real\",\"Real\",\"Real\",\"Real\",\"Real\",\"Real\",\"Real\",\"Real\",\"Real\",\"Real\",\"Real\",\"Real\",\"Real\",\"Real\",\"Real\",\"Real\",\"Real\",\"Real\",\"Real\",\"Real\",\"Real\",\"Real\",\"Real\",\"Real\",\"Real\",\"Real\",\"Real\",\"Real\",\"Real\",\"Real\",\"Real\",\"Real\",\"Real\",\"Real\",\"Real\",\"Real\",\"Real\",\"Real\",\"Real\",\"Real\",\"Real\",\"Real\",\"Real\",\"Real\",\"Real\",\"Real\",\"Real\",\"Real\",\"Real\",\"Real\",\"Real\",\"Real\",\"Real\",\"Real\",\"Real\",\"Real\",\"Real\",\"Real\",\"Real\",\"Real\",\"Real\",\"Real\",\"Real\",\"Real\",\"Real\",\"Real\",\"Real\",\"Real\",\"Real\",\"Real\",\"Real\",\"Real\",\"Real\",\"Real\",\"Real\",\"Real\",\"Real\",\"Real\",\"Real\",\"Real\",\"Real\",\"Real\",\"Real\",\"Real\",\"Real\",\"Real\",\"Real\",\"Real\",\"Real\",\"Real\",\"Real\",\"Real\",\"Real\",\"Real\",\"Real\",\"Real\",\"Real\",\"Real\",\"Real\",\"Real\",\"Real\",\"Real\",\"Real\",\"Real\",\"Real\",\"Real\",\"Real\",\"Real\",\"Real\",\"Real\",\"Real\",\"Real\",\"Real\",\"Real\",\"Real\",\"Real\",\"Real\",\"Real\",\"Real\",\"Real\",\"Real\",\"Real\",\"Real\",\"Real\",\"Real\",\"Real\",\"Real\",\"Real\",\"Real\",\"Real\",\"Real\",\"Real\",\"Real\",\"Real\",\"Real\",\"Real\",\"Real\",\"Real\",\"Real\",\"Real\",\"Real\",\"Real\",\"Real\",\"Real\",\"Real\",\"Real\",\"Real\",\"Real\",\"Real\",\"Real\",\"Real\",\"Real\",\"Real\",\"Real\",\"Real\",\"Real\",\"Real\",\"Real\",\"Real\",\"Real\",\"Real\",\"Real\",\"Real\",\"Real\",\"Real\",\"Real\",\"Real\",\"Real\",\"Real\",\"Real\",\"Real\",\"Real\",\"Real\",\"Real\",\"Real\",\"Real\",\"Real\",\"Real\",\"Real\",\"Real\",\"Real\",\"Real\",\"Real\",\"Real\",\"Real\",\"Real\",\"Real\",\"Real\",\"Real\",\"Real\",\"Real\",\"Real\",\"Real\",\"Real\",\"Real\",\"Real\",\"Real\",\"Real\",\"Real\",\"Real\",\"Real\",\"Real\",\"Real\",\"Real\",\"Real\",\"Real\",\"Real\",\"Real\",\"Real\",\"Real\",\"Real\",\"Real\",\"Real\",\"Real\",\"Real\",\"Real\",\"Real\",\"Real\",\"Real\",\"Real\",\"Real\",\"Real\",\"Real\",\"Real\",\"Real\",\"Real\",\"Real\",\"Real\",\"Real\",\"Real\",\"Real\",\"Real\",\"Real\",\"Real\",\"Real\",\"Real\",\"Real\",\"Real\",\"Real\",\"Real\",\"Real\",\"Real\",\"Real\",\"Real\",\"Real\",\"Real\",\"Real\",\"Real\",\"Real\",\"Real\",\"Real\",\"Real\",\"Real\",\"Real\",\"Real\",\"Real\",\"Real\",\"Real\",\"Real\",\"Real\",\"Real\",\"Real\",\"Real\",\"Real\"],\"value\":{\"__ndarray__\":\"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\",\"dtype\":\"float64\",\"order\":\"little\",\"shape\":[447]}},\"selected\":{\"id\":\"3280\"},\"selection_policy\":{\"id\":\"3294\"}},\"id\":\"3279\",\"type\":\"ColumnDataSource\"},{\"attributes\":{\"line_color\":\"#30a2da\",\"line_width\":2,\"x\":{\"field\":\"Date\"},\"y\":{\"field\":\"value\"}},\"id\":\"3311\",\"type\":\"Line\"},{\"attributes\":{\"days\":[1,8,15,22]},\"id\":\"3302\",\"type\":\"DaysTicker\"},{\"attributes\":{\"margin\":[5,5,5,5],\"name\":\"HSpacer03878\",\"sizing_mode\":\"stretch_width\"},\"id\":\"3238\",\"type\":\"Spacer\"},{\"attributes\":{},\"id\":\"3250\",\"type\":\"LinearScale\"},{\"attributes\":{\"line_color\":\"#fc4f30\",\"line_width\":2,\"x\":{\"field\":\"Date\"},\"y\":{\"field\":\"value\"}},\"id\":\"3315\",\"type\":\"Line\"},{\"attributes\":{\"days\":[1,15]},\"id\":\"3303\",\"type\":\"DaysTicker\"},{\"attributes\":{\"axis_label\":\"\",\"coordinates\":null,\"formatter\":{\"id\":\"3277\"},\"group\":null,\"major_label_policy\":{\"id\":\"3278\"},\"ticker\":{\"id\":\"3257\"}},\"id\":\"3256\",\"type\":\"LinearAxis\"},{\"attributes\":{\"source\":{\"id\":\"3312\"}},\"id\":\"3319\",\"type\":\"CDSView\"},{\"attributes\":{\"axis\":{\"id\":\"3252\"},\"coordinates\":null,\"grid_line_color\":null,\"group\":null,\"ticker\":null},\"id\":\"3255\",\"type\":\"Grid\"},{\"attributes\":{\"line_alpha\":0.2,\"line_color\":\"#30a2da\",\"line_width\":2,\"x\":{\"field\":\"Date\"},\"y\":{\"field\":\"value\"}},\"id\":\"3284\",\"type\":\"Line\"},{\"attributes\":{\"data\":{\"Date\":{\"__ndarray__\":\"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\",\"dtype\":\"float64\",\"order\":\"little\",\"shape\":[447]},\"Variable\":[\"Predicted\",\"Predicted\",\"Predicted\",\"Predicted\",\"Predicted\",\"Predicted\",\"Predicted\",\"Predicted\",\"Predicted\",\"Predicted\",\"Predicted\",\"Predicted\",\"Predicted\",\"Predicted\",\"Predicted\",\"Predicted\",\"Predicted\",\"Predicted\",\"Predicted\",\"Predicted\",\"Predicted\",\"Predicted\",\"Predicted\",\"Predicted\",\"Predicted\",\"Predicted\",\"Predicted\",\"Predicted\",\"Predicted\",\"Predicted\",\"Predicted\",\"Predicted\",\"Predicted\",\"Predicted\",\"Predicted\",\"Predicted\",\"Predicted\",\"Predicted\",\"Predicted\",\"Predicted\",\"Predicted\",\"Predicted\",\"Predicted\",\"Predicted\",\"Predicted\",\"Predicted\",\"Predicted\",\"Predicted\",\"Predicted\",\"Predicted\",\"Predicted\",\"Predicted\",\"Predicted\",\"Predicted\",\"Predicted\",\"Predicted\",\"Predicted\",\"Predicted\",\"Predicted\",\"Predicted\",\"Predicted\",\"Predicted\",\"Predicted\",\"Predicted\",\"Predicted\",\"Predicted\",\"Predicted\",\"Predicted\",\"Predicted\",\"Predicted\",\"Predicted\",\"Predicted\",\"Predicted\",\"Predicted\",\"Predicted\",\"Predicted\",\"Predicted\",\"Predicted\",\"Predicted\",\"Predicted\",\"Predicted\",\"Predicted\",\"Predicted\",\"Predicted\",\"Predicted\",\"Predicted\",\"Predicted\",\"Predicted\",\"Predicted\",\"Predicted\",\"Predicted\",\"Predicted\",\"Predicted\",\"Predicted\",\"Predicted\",\"Predicted\",\"Predicted\",\"Predicted\",\"Predicted\",\"Predicted\",\"Predicted\",\"Predicted\",\"Predicted\",\"Predicted\",\"Predicted\",\"Predicted\",\"Predicted\",\"Predicted\",\"Predicted\",\"Predicted\",\"Predicted\",\"Predicted\",\"Predicted\",\"Predicted\",\"Predicted\",\"Predicted\",\"Predicted\",\"Predicted\",\"Predicted\",\"Predicted\",\"Predicted\",\"Predicted\",\"Predicted\",\"Predicted\",\"Predicted\",\"Predicted\",\"Predicted\",\"Predicted\",\"Predicted\",\"Predicted\",\"Predicted\",\"Predicted\",\"Predicted\",\"Predicted\",\"Predicted\",\"Predicted\",\"Predicted\",\"Predicted\",\"Predicted\",\"Predicted\",\"Predicted\",\"Predicted\",\"Predicted\",\"Predicted\",\"Predicted\",\"Predicted\",\"Predicted\",\"Predicted\",\"Predicted\",\"Predicted\",\"Predicted\",\"Predicted\",\"Predicted\",\"Predicted\",\"Predicted\",\"Predicted\",\"Predicted\",\"Predicted\",\"Predicted\",\"Predicted\",\"Predicted\",\"Predicted\",\"Predicted\",\"Predicted\",\"Predicted\",\"Predicted\",\"Predicted\",\"Predicted\",\"Predicted\",\"Predicted\",\"Predicted\",\"Predicted\",\"Predicted\",\"Predicted\",\"Predicted\",\"Predicted\",\"Predicted\",\"Predicted\",\"Predicted\",\"Predicted\",\"Predicted\",\"Predicted\",\"Predicted\",\"Predicted\",\"Predicted\",\"Predicted\",\"Predicted\",\"Predicted\",\"Predicted\",\"Predicted\",\"Predicted\",\"Predicted\",\"Predicted\",\"Predicted\",\"Predicted\",\"Predicted\",\"Predicted\",\"Predicted\",\"Predicted\",\"Predicted\",\"Predicted\",\"Predicted\",\"Predicted\",\"Predicted\",\"Predicted\",\"Predicted\",\"Predicted\",\"Predicted\",\"Predicted\",\"Predicted\",\"Predicted\",\"Predicted\",\"Predicted\",\"Predicted\",\"Predicted\",\"Predicted\",\"Predicted\",\"Predicted\",\"Predicted\",\"Predicted\",\"Predicted\",\"Predicted\",\"Predicted\",\"Predicted\",\"Predicted\",\"Predicted\",\"Predicted\",\"Predicted\",\"Predicted\",\"Predicted\",\"Predicted\",\"Predicted\",\"Predicted\",\"Predicted\",\"Predicted\",\"Predicted\",\"Predicted\",\"Predicted\",\"Predicted\",\"Predicted\",\"Predicted\",\"Predicted\",\"Predicted\",\"Predicted\",\"Predicted\",\"Predicted\",\"Predicted\",\"Predicted\",\"Predicted\",\"Predicted\",\"Predicted\",\"Predicted\",\"Predicted\",\"Predicted\",\"Predicted\",\"Predicted\",\"Predicted\",\"Predicted\",\"Predicted\",\"Predicted\",\"Predicted\",\"Predicted\",\"Predicted\",\"Predicted\",\"Predicted\",\"Predicted\",\"Predicted\",\"Predicted\",\"Predicted\",\"Predicted\",\"Predicted\",\"Predicted\",\"Predicted\",\"Predicted\",\"Predicted\",\"Predicted\",\"Predicted\",\"Predicted\",\"Predicted\",\"Predicted\",\"Predicted\",\"Predicted\",\"Predicted\",\"Predicted\",\"Predicted\",\"Predicted\",\"Predicted\",\"Predicted\",\"Predicted\",\"Predicted\",\"Predicted\",\"Predicted\",\"Predicted\",\"Predicted\",\"Predicted\",\"Predicted\",\"Predicted\",\"Predicted\",\"Predicted\",\"Predicted\",\"Predicted\",\"Predicted\",\"Predicted\",\"Predicted\",\"Predicted\",\"Predicted\",\"Predicted\",\"Predicted\",\"Predicted\",\"Predicted\",\"Predicted\",\"Predicted\",\"Predicted\",\"Predicted\",\"Predicted\",\"Predicted\",\"Predicted\",\"Predicted\",\"Predicted\",\"Predicted\",\"Predicted\",\"Predicted\",\"Predicted\",\"Predicted\",\"Predicted\",\"Predicted\",\"Predicted\",\"Predicted\",\"Predicted\",\"Predicted\",\"Predicted\",\"Predicted\",\"Predicted\",\"Predicted\",\"Predicted\",\"Predicted\",\"Predicted\",\"Predicted\",\"Predicted\",\"Predicted\",\"Predicted\",\"Predicted\",\"Predicted\",\"Predicted\",\"Predicted\",\"Predicted\",\"Predicted\",\"Predicted\",\"Predicted\",\"Predicted\",\"Predicted\",\"Predicted\",\"Predicted\",\"Predicted\",\"Predicted\",\"Predicted\",\"Predicted\",\"Predicted\",\"Predicted\",\"Predicted\",\"Predicted\",\"Predicted\",\"Predicted\",\"Predicted\",\"Predicted\",\"Predicted\",\"Predicted\",\"Predicted\",\"Predicted\",\"Predicted\",\"Predicted\",\"Predicted\",\"Predicted\",\"Predicted\",\"Predicted\",\"Predicted\",\"Predicted\",\"Predicted\",\"Predicted\",\"Predicted\",\"Predicted\",\"Predicted\",\"Predicted\",\"Predicted\",\"Predicted\",\"Predicted\",\"Predicted\",\"Predicted\",\"Predicted\",\"Predicted\",\"Predicted\",\"Predicted\",\"Predicted\",\"Predicted\",\"Predicted\",\"Predicted\",\"Predicted\",\"Predicted\",\"Predicted\",\"Predicted\",\"Predicted\",\"Predicted\",\"Predicted\",\"Predicted\",\"Predicted\",\"Predicted\",\"Predicted\",\"Predicted\",\"Predicted\",\"Predicted\",\"Predicted\",\"Predicted\",\"Predicted\",\"Predicted\",\"Predicted\",\"Predicted\",\"Predicted\",\"Predicted\",\"Predicted\",\"Predicted\",\"Predicted\",\"Predicted\",\"Predicted\",\"Predicted\",\"Predicted\",\"Predicted\",\"Predicted\",\"Predicted\",\"Predicted\",\"Predicted\",\"Predicted\",\"Predicted\",\"Predicted\",\"Predicted\",\"Predicted\",\"Predicted\",\"Predicted\",\"Predicted\",\"Predicted\",\"Predicted\",\"Predicted\",\"Predicted\",\"Predicted\",\"Predicted\",\"Predicted\",\"Predicted\",\"Predicted\"],\"value\":{\"__ndarray__\":\"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\",\"dtype\":\"float32\",\"order\":\"little\",\"shape\":[447]}},\"selected\":{\"id\":\"3313\"},\"selection_policy\":{\"id\":\"3329\"}},\"id\":\"3312\",\"type\":\"ColumnDataSource\"},{\"attributes\":{\"coordinates\":null,\"data_source\":{\"id\":\"3312\"},\"glyph\":{\"id\":\"3315\"},\"group\":null,\"hover_glyph\":null,\"muted_glyph\":{\"id\":\"3317\"},\"nonselection_glyph\":{\"id\":\"3316\"},\"selection_glyph\":{\"id\":\"3345\"},\"view\":{\"id\":\"3319\"}},\"id\":\"3318\",\"type\":\"GlyphRenderer\"},{\"attributes\":{\"axis\":{\"id\":\"3256\"},\"coordinates\":null,\"dimension\":1,\"grid_line_color\":null,\"group\":null,\"ticker\":null},\"id\":\"3259\",\"type\":\"Grid\"},{\"attributes\":{\"end\":4100.631977539062,\"reset_end\":4100.631977539062,\"reset_start\":2900.9789111328123,\"start\":2900.9789111328123,\"tags\":[[[\"value\",\"value\",null]]]},\"id\":\"3240\",\"type\":\"Range1d\"}],\"root_ids\":[\"3237\"]},\"title\":\"Bokeh Application\",\"version\":\"2.4.2\"}};\n",
       "    var render_items = [{\"docid\":\"d83ecb10-495b-4b00-a61f-caa5058209b3\",\"root_ids\":[\"3237\"],\"roots\":{\"3237\":\"6fe7098a-a46e-4644-80fc-a9ca93a4665b\"}}];\n",
       "    root.Bokeh.embed.embed_items_notebook(docs_json, render_items);\n",
       "  }\n",
       "  if (root.Bokeh !== undefined && root.Bokeh.Panel !== undefined) {\n",
       "    embed_document(root);\n",
       "  } else {\n",
       "    var attempts = 0;\n",
       "    var timer = setInterval(function(root) {\n",
       "      if (root.Bokeh !== undefined && root.Bokeh.Panel !== undefined) {\n",
       "        clearInterval(timer);\n",
       "        embed_document(root);\n",
       "      } else if (document.readyState == \"complete\") {\n",
       "        attempts++;\n",
       "        if (attempts > 200) {\n",
       "          clearInterval(timer);\n",
       "          console.log(\"Bokeh: ERROR: Unable to run BokehJS code because BokehJS library is missing\");\n",
       "        }\n",
       "      }\n",
       "    }, 25, root)\n",
       "  }\n",
       "})(window);</script>"
      ],
      "text/plain": [
       ":NdOverlay   [Variable]\n",
       "   :Curve   [Date]   (value)"
      ]
     },
     "execution_count": 147,
     "metadata": {
      "application/vnd.holoviews_exec.v0+json": {
       "id": "3237"
      }
     },
     "output_type": "execute_result"
    }
   ],
   "source": [
    "# Plot the real vs predicted values as a line chart\n",
    "stocks.hvplot()"
   ]
  },
  {
   "cell_type": "code",
   "execution_count": null,
   "metadata": {},
   "outputs": [],
   "source": []
  }
 ],
 "metadata": {
  "file_extension": ".py",
  "kernelspec": {
   "display_name": "Python 3 (ipykernel)",
   "language": "python",
   "name": "python3"
  },
  "language_info": {
   "codemirror_mode": {
    "name": "ipython",
    "version": 3
   },
   "file_extension": ".py",
   "mimetype": "text/x-python",
   "name": "python",
   "nbconvert_exporter": "python",
   "pygments_lexer": "ipython3",
   "version": "3.7.11"
  },
  "mimetype": "text/x-python",
  "name": "python",
  "npconvert_exporter": "python",
  "pygments_lexer": "ipython3",
  "version": 3
 },
 "nbformat": 4,
 "nbformat_minor": 4
}
