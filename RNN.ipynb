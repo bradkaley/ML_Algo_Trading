{
 "cells": [
  {
   "cell_type": "code",
   "execution_count": 1,
   "id": "f6e5bba9",
   "metadata": {},
   "outputs": [],
   "source": [
    "# Initial imports\n",
    "import numpy as np\n",
    "import pandas as pd\n",
    "\n",
    "\n",
    "# API import\n",
    "import requests\n",
    "import json\n",
    "\n",
    "# Data cleaning\n",
    "from datetime import datetime\n",
    "\n",
    "\n",
    "# Plot import\n",
    "%matplotlib inline"
   ]
  },
  {
   "cell_type": "code",
   "execution_count": 26,
   "id": "df73b659-dfac-4557-a14e-a6c83219403b",
   "metadata": {},
   "outputs": [
    {
     "data": {
      "text/html": [
       "<div>\n",
       "<style scoped>\n",
       "    .dataframe tbody tr th:only-of-type {\n",
       "        vertical-align: middle;\n",
       "    }\n",
       "\n",
       "    .dataframe tbody tr th {\n",
       "        vertical-align: top;\n",
       "    }\n",
       "\n",
       "    .dataframe thead th {\n",
       "        text-align: right;\n",
       "    }\n",
       "</style>\n",
       "<table border=\"1\" class=\"dataframe\">\n",
       "  <thead>\n",
       "    <tr style=\"text-align: right;\">\n",
       "      <th></th>\n",
       "      <th>time</th>\n",
       "      <th>high</th>\n",
       "      <th>low</th>\n",
       "      <th>open</th>\n",
       "      <th>volumefrom</th>\n",
       "      <th>volumeto</th>\n",
       "      <th>close</th>\n",
       "      <th>conversionType</th>\n",
       "      <th>conversionSymbol</th>\n",
       "    </tr>\n",
       "  </thead>\n",
       "  <tbody>\n",
       "    <tr>\n",
       "      <th>0</th>\n",
       "      <td>1469750400</td>\n",
       "      <td>657.40</td>\n",
       "      <td>650.99</td>\n",
       "      <td>654.13</td>\n",
       "      <td>27043.62</td>\n",
       "      <td>17757920.48</td>\n",
       "      <td>655.43</td>\n",
       "      <td>direct</td>\n",
       "      <td></td>\n",
       "    </tr>\n",
       "    <tr>\n",
       "      <th>1</th>\n",
       "      <td>1469836800</td>\n",
       "      <td>657.55</td>\n",
       "      <td>652.06</td>\n",
       "      <td>655.43</td>\n",
       "      <td>19354.41</td>\n",
       "      <td>12721755.54</td>\n",
       "      <td>654.74</td>\n",
       "      <td>direct</td>\n",
       "      <td></td>\n",
       "    </tr>\n",
       "    <tr>\n",
       "      <th>2</th>\n",
       "      <td>1469923200</td>\n",
       "      <td>654.92</td>\n",
       "      <td>621.42</td>\n",
       "      <td>654.74</td>\n",
       "      <td>62887.74</td>\n",
       "      <td>39918066.14</td>\n",
       "      <td>621.87</td>\n",
       "      <td>direct</td>\n",
       "      <td></td>\n",
       "    </tr>\n",
       "    <tr>\n",
       "      <th>3</th>\n",
       "      <td>1470009600</td>\n",
       "      <td>627.89</td>\n",
       "      <td>603.55</td>\n",
       "      <td>621.87</td>\n",
       "      <td>66660.27</td>\n",
       "      <td>41229298.83</td>\n",
       "      <td>607.00</td>\n",
       "      <td>direct</td>\n",
       "      <td></td>\n",
       "    </tr>\n",
       "    <tr>\n",
       "      <th>4</th>\n",
       "      <td>1470096000</td>\n",
       "      <td>613.75</td>\n",
       "      <td>471.36</td>\n",
       "      <td>607.00</td>\n",
       "      <td>130913.66</td>\n",
       "      <td>75338595.54</td>\n",
       "      <td>513.43</td>\n",
       "      <td>direct</td>\n",
       "      <td></td>\n",
       "    </tr>\n",
       "  </tbody>\n",
       "</table>\n",
       "</div>"
      ],
      "text/plain": [
       "         time    high     low    open  volumefrom     volumeto   close  \\\n",
       "0  1469750400  657.40  650.99  654.13    27043.62  17757920.48  655.43   \n",
       "1  1469836800  657.55  652.06  655.43    19354.41  12721755.54  654.74   \n",
       "2  1469923200  654.92  621.42  654.74    62887.74  39918066.14  621.87   \n",
       "3  1470009600  627.89  603.55  621.87    66660.27  41229298.83  607.00   \n",
       "4  1470096000  613.75  471.36  607.00   130913.66  75338595.54  513.43   \n",
       "\n",
       "  conversionType conversionSymbol  \n",
       "0         direct                   \n",
       "1         direct                   \n",
       "2         direct                   \n",
       "3         direct                   \n",
       "4         direct                   "
      ]
     },
     "execution_count": 26,
     "metadata": {},
     "output_type": "execute_result"
    }
   ],
   "source": [
    "# API\n",
    "ticker = \"BTC\"\n",
    "limit =\"2000\"\n",
    "\n",
    "price_url = f\"https://min-api.cryptocompare.com/data/v2/histoday?fsym={ticker}&tsym=USD&limit=2000\"\n",
    "\n",
    "price_response_data = requests.get(price_url).json()\n",
    "data_price = pd.DataFrame(price_response_data[\"Data\"][\"Data\"])\n",
    "\n",
    "#volume_url = \"https://min-api.cryptocompare.com/data/symbol/histoday?fsym=ETH&tsym=USD&limit=2000\"\n",
    "#volume_response_data = requests.get(volume_url).json()\n",
    "\n",
    "#data_vol = pd.DataFrame(volume_response_data)\n",
    "\n",
    "data_price.head()\n"
   ]
  },
  {
   "cell_type": "code",
   "execution_count": 27,
   "id": "4e267642",
   "metadata": {},
   "outputs": [
    {
     "data": {
      "text/html": [
       "<div>\n",
       "<style scoped>\n",
       "    .dataframe tbody tr th:only-of-type {\n",
       "        vertical-align: middle;\n",
       "    }\n",
       "\n",
       "    .dataframe tbody tr th {\n",
       "        vertical-align: top;\n",
       "    }\n",
       "\n",
       "    .dataframe thead th {\n",
       "        text-align: right;\n",
       "    }\n",
       "</style>\n",
       "<table border=\"1\" class=\"dataframe\">\n",
       "  <thead>\n",
       "    <tr style=\"text-align: right;\">\n",
       "      <th></th>\n",
       "      <th>Highest price</th>\n",
       "      <th>Lowest price</th>\n",
       "      <th>Opening price</th>\n",
       "      <th>Closing price</th>\n",
       "    </tr>\n",
       "    <tr>\n",
       "      <th>Date</th>\n",
       "      <th></th>\n",
       "      <th></th>\n",
       "      <th></th>\n",
       "      <th></th>\n",
       "    </tr>\n",
       "  </thead>\n",
       "  <tbody>\n",
       "    <tr>\n",
       "      <th>2016-07-29</th>\n",
       "      <td>657.40</td>\n",
       "      <td>650.99</td>\n",
       "      <td>654.13</td>\n",
       "      <td>655.43</td>\n",
       "    </tr>\n",
       "    <tr>\n",
       "      <th>2016-07-30</th>\n",
       "      <td>657.55</td>\n",
       "      <td>652.06</td>\n",
       "      <td>655.43</td>\n",
       "      <td>654.74</td>\n",
       "    </tr>\n",
       "    <tr>\n",
       "      <th>2016-07-31</th>\n",
       "      <td>654.92</td>\n",
       "      <td>621.42</td>\n",
       "      <td>654.74</td>\n",
       "      <td>621.87</td>\n",
       "    </tr>\n",
       "    <tr>\n",
       "      <th>2016-08-01</th>\n",
       "      <td>627.89</td>\n",
       "      <td>603.55</td>\n",
       "      <td>621.87</td>\n",
       "      <td>607.00</td>\n",
       "    </tr>\n",
       "    <tr>\n",
       "      <th>2016-08-02</th>\n",
       "      <td>613.75</td>\n",
       "      <td>471.36</td>\n",
       "      <td>607.00</td>\n",
       "      <td>513.43</td>\n",
       "    </tr>\n",
       "  </tbody>\n",
       "</table>\n",
       "</div>"
      ],
      "text/plain": [
       "            Highest price  Lowest price  Opening price  Closing price\n",
       "Date                                                                 \n",
       "2016-07-29         657.40        650.99         654.13         655.43\n",
       "2016-07-30         657.55        652.06         655.43         654.74\n",
       "2016-07-31         654.92        621.42         654.74         621.87\n",
       "2016-08-01         627.89        603.55         621.87         607.00\n",
       "2016-08-02         613.75        471.36         607.00         513.43"
      ]
     },
     "execution_count": 27,
     "metadata": {},
     "output_type": "execute_result"
    }
   ],
   "source": [
    "# Transform to DataFrame\n",
    "data_price.drop(columns = [\"volumefrom\" , \"volumeto\" , \"conversionType\" , \"conversionSymbol\"], inplace =True)\n",
    "\n",
    "data_price.columns =['Date', 'Highest price',  'Lowest price' ,  'Opening price' , 'Closing price']\n",
    "data_price['Date'] = pd.to_datetime(data_price['Date'], unit='s')\n",
    "\n",
    "data_price.set_index('Date', inplace=True)\n",
    "\n",
    "data_price.head()"
   ]
  },
  {
   "cell_type": "code",
   "execution_count": 54,
   "id": "2ab96b36-f4fa-4c7d-87e2-67a6c21a779d",
   "metadata": {},
   "outputs": [
    {
     "data": {
      "text/html": [
       "<div>\n",
       "<style scoped>\n",
       "    .dataframe tbody tr th:only-of-type {\n",
       "        vertical-align: middle;\n",
       "    }\n",
       "\n",
       "    .dataframe tbody tr th {\n",
       "        vertical-align: top;\n",
       "    }\n",
       "\n",
       "    .dataframe thead th {\n",
       "        text-align: right;\n",
       "    }\n",
       "</style>\n",
       "<table border=\"1\" class=\"dataframe\">\n",
       "  <thead>\n",
       "    <tr style=\"text-align: right;\">\n",
       "      <th></th>\n",
       "      <th>Highest price</th>\n",
       "      <th>Lowest price</th>\n",
       "      <th>Opening price</th>\n",
       "      <th>Closing price</th>\n",
       "    </tr>\n",
       "    <tr>\n",
       "      <th>Date</th>\n",
       "      <th></th>\n",
       "      <th></th>\n",
       "      <th></th>\n",
       "      <th></th>\n",
       "    </tr>\n",
       "  </thead>\n",
       "  <tbody>\n",
       "    <tr>\n",
       "      <th>2019-12-01</th>\n",
       "      <td>7575.50</td>\n",
       "      <td>7261.95</td>\n",
       "      <td>7571.77</td>\n",
       "      <td>7420.53</td>\n",
       "    </tr>\n",
       "    <tr>\n",
       "      <th>2019-12-02</th>\n",
       "      <td>7442.62</td>\n",
       "      <td>7193.09</td>\n",
       "      <td>7420.53</td>\n",
       "      <td>7320.94</td>\n",
       "    </tr>\n",
       "    <tr>\n",
       "      <th>2019-12-03</th>\n",
       "      <td>7420.34</td>\n",
       "      <td>7260.93</td>\n",
       "      <td>7320.94</td>\n",
       "      <td>7313.64</td>\n",
       "    </tr>\n",
       "    <tr>\n",
       "      <th>2019-12-04</th>\n",
       "      <td>7764.68</td>\n",
       "      <td>7110.76</td>\n",
       "      <td>7313.64</td>\n",
       "      <td>7207.78</td>\n",
       "    </tr>\n",
       "    <tr>\n",
       "      <th>2019-12-05</th>\n",
       "      <td>7492.96</td>\n",
       "      <td>7175.85</td>\n",
       "      <td>7207.78</td>\n",
       "      <td>7406.75</td>\n",
       "    </tr>\n",
       "    <tr>\n",
       "      <th>2019-12-06</th>\n",
       "      <td>7607.79</td>\n",
       "      <td>7323.86</td>\n",
       "      <td>7406.75</td>\n",
       "      <td>7558.58</td>\n",
       "    </tr>\n",
       "    <tr>\n",
       "      <th>2019-12-07</th>\n",
       "      <td>7640.51</td>\n",
       "      <td>7503.10</td>\n",
       "      <td>7558.58</td>\n",
       "      <td>7514.86</td>\n",
       "    </tr>\n",
       "    <tr>\n",
       "      <th>2019-12-08</th>\n",
       "      <td>7594.80</td>\n",
       "      <td>7414.51</td>\n",
       "      <td>7514.86</td>\n",
       "      <td>7539.70</td>\n",
       "    </tr>\n",
       "    <tr>\n",
       "      <th>2019-12-09</th>\n",
       "      <td>7667.04</td>\n",
       "      <td>7296.42</td>\n",
       "      <td>7539.70</td>\n",
       "      <td>7350.62</td>\n",
       "    </tr>\n",
       "    <tr>\n",
       "      <th>2019-12-10</th>\n",
       "      <td>7403.64</td>\n",
       "      <td>7176.42</td>\n",
       "      <td>7350.62</td>\n",
       "      <td>7233.84</td>\n",
       "    </tr>\n",
       "  </tbody>\n",
       "</table>\n",
       "</div>"
      ],
      "text/plain": [
       "            Highest price  Lowest price  Opening price  Closing price\n",
       "Date                                                                 \n",
       "2019-12-01        7575.50       7261.95        7571.77        7420.53\n",
       "2019-12-02        7442.62       7193.09        7420.53        7320.94\n",
       "2019-12-03        7420.34       7260.93        7320.94        7313.64\n",
       "2019-12-04        7764.68       7110.76        7313.64        7207.78\n",
       "2019-12-05        7492.96       7175.85        7207.78        7406.75\n",
       "2019-12-06        7607.79       7323.86        7406.75        7558.58\n",
       "2019-12-07        7640.51       7503.10        7558.58        7514.86\n",
       "2019-12-08        7594.80       7414.51        7514.86        7539.70\n",
       "2019-12-09        7667.04       7296.42        7539.70        7350.62\n",
       "2019-12-10        7403.64       7176.42        7350.62        7233.84"
      ]
     },
     "execution_count": 54,
     "metadata": {},
     "output_type": "execute_result"
    }
   ],
   "source": [
    "# Select only dates starting end 2019, because the price curve is distincly different\n",
    "df = data_price.loc[\"2019-12-1\" : ]\n",
    "df.head(10)"
   ]
  },
  {
   "cell_type": "code",
   "execution_count": 55,
   "id": "0f61c94f",
   "metadata": {},
   "outputs": [],
   "source": [
    "def window_data(df, window, feature_col_number, target_col_number):\n",
    "    \"\"\"\n",
    "    This function accepts the column number for the features (X) and the target (y).\n",
    "    It chunks the data up with a rolling window of Xt - window to predict Xt.\n",
    "    It returns two numpy arrays of X and y.\n",
    "    \"\"\"\n",
    "    X = []\n",
    "    y = []\n",
    "    for i in range(len(df) - window -1):\n",
    "        features = df.iloc[i : (i + window), feature_col_number]\n",
    "        target = df.iloc[(i + window + 1), target_col_number]\n",
    "        X.append(features)\n",
    "        y.append(target)\n",
    "    return np.array(X), np.array(y).reshape(-1, 1)"
   ]
  },
  {
   "cell_type": "markdown",
   "id": "35f70906",
   "metadata": {},
   "source": [
    "# Split Data and create predictive set"
   ]
  },
  {
   "cell_type": "code",
   "execution_count": 56,
   "id": "936a9eb6",
   "metadata": {},
   "outputs": [],
   "source": [
    "# Define the window size\n",
    "window_size = 10\n",
    "\n",
    "\n",
    "# Set the index of the feature and target columns\n",
    "feature_column = 3\n",
    "target_column = 3\n",
    "\n",
    "# Create the features (X) and target (y) data using the window_data() function.\n",
    "X, y = window_data(df, window_size, feature_column, target_column)\n",
    "\n",
    "\n",
    "# Manually splitting the data\n",
    "split = int(0.8 * len(X))\n",
    "\n",
    "X_train = X[: split]\n",
    "X_test = X[split:]\n",
    "\n",
    "y_train = y[: split]\n",
    "y_test = y[split:]"
   ]
  },
  {
   "cell_type": "code",
   "execution_count": 57,
   "id": "0352bb01-41ed-42fd-8458-f510d72a6981",
   "metadata": {},
   "outputs": [],
   "source": [
    "# Importing the MinMaxScaler from sklearn\n",
    "from sklearn.preprocessing import MinMaxScaler\n",
    "\n",
    "# Create a MinMaxScaler object\n",
    "X_scaler = MinMaxScaler()\n",
    "Y_scaler = MinMaxScaler()\n",
    "\n",
    "# Fit the MinMaxScaler object with the features data X\n",
    "X_scaler.fit(X_train)\n",
    "\n",
    "# Scale the features training and testing sets\n",
    "X_train = X_scaler.transform(X_train)\n",
    "X_test = X_scaler.transform(X_test)\n",
    "\n",
    "# Fit the MinMaxScaler object with the target data Y\n",
    "Y_scaler.fit(y_train)\n",
    "\n",
    "# Scale the target training and testing sets\n",
    "Y_scaler = scaler.transform(y_train)\n",
    "Y_scaler = scaler.transform(y_test)"
   ]
  },
  {
   "cell_type": "code",
   "execution_count": 58,
   "id": "f88b3f6f-303e-4305-995a-06cbb7a1a068",
   "metadata": {},
   "outputs": [],
   "source": [
    "# Reshape the features data\n",
    "X_train = X_train.reshape((X_train.shape[0], X_train.shape[1], 1))\n",
    "X_test = X_test.reshape((X_test.shape[0], X_test.shape[1], 1))"
   ]
  },
  {
   "cell_type": "markdown",
   "id": "6b606ac5",
   "metadata": {},
   "source": [
    "# Build and Train the LSTM RNN"
   ]
  },
  {
   "cell_type": "code",
   "execution_count": 59,
   "id": "db94be7e",
   "metadata": {},
   "outputs": [],
   "source": [
    "# Import required Keras modules\n",
    "from tensorflow.keras.models import Sequential\n",
    "from tensorflow.keras.layers import LSTM, Dense, Dropout"
   ]
  },
  {
   "cell_type": "code",
   "execution_count": 60,
   "id": "2c93a890",
   "metadata": {},
   "outputs": [],
   "source": [
    "model = Sequential()\n",
    "\n",
    "# Initial model setup\n",
    "number_units = 20\n",
    "dropout_fraction = 0.2\n",
    "\n",
    "# Layer 1\n",
    "model.add(LSTM(\n",
    "    units=number_units,\n",
    "    return_sequences=True,\n",
    "    input_shape=(X_train.shape[1], 1))\n",
    "    )\n",
    "model.add(Dropout(dropout_fraction))\n",
    "\n",
    "# Layer 2\n",
    "model.add(LSTM(units=number_units, return_sequences=True))\n",
    "model.add(Dropout(dropout_fraction))\n",
    "\n",
    "\n",
    "# Output layer\n",
    "model.add(Dense(1))"
   ]
  },
  {
   "cell_type": "code",
   "execution_count": 61,
   "id": "98e57720",
   "metadata": {},
   "outputs": [
    {
     "name": "stdout",
     "output_type": "stream",
     "text": [
      "Model: \"sequential_5\"\n",
      "_________________________________________________________________\n",
      " Layer (type)                Output Shape              Param #   \n",
      "=================================================================\n",
      " lstm_11 (LSTM)              (None, 10, 20)            1760      \n",
      "                                                                 \n",
      " dropout_11 (Dropout)        (None, 10, 20)            0         \n",
      "                                                                 \n",
      " lstm_12 (LSTM)              (None, 10, 20)            3280      \n",
      "                                                                 \n",
      " dropout_12 (Dropout)        (None, 10, 20)            0         \n",
      "                                                                 \n",
      " dense_5 (Dense)             (None, 10, 1)             21        \n",
      "                                                                 \n",
      "=================================================================\n",
      "Total params: 5,061\n",
      "Trainable params: 5,061\n",
      "Non-trainable params: 0\n",
      "_________________________________________________________________\n"
     ]
    }
   ],
   "source": [
    "model.summary()"
   ]
  },
  {
   "cell_type": "code",
   "execution_count": 62,
   "id": "b049c180",
   "metadata": {},
   "outputs": [],
   "source": [
    "# Compile the model\n",
    "model.compile(optimizer=\"adam\", loss=\"mean_squared_error\" , metrics = [\"mse\", \"accuracy\"])"
   ]
  },
  {
   "cell_type": "code",
   "execution_count": 63,
   "id": "0bbb8763",
   "metadata": {},
   "outputs": [
    {
     "name": "stdout",
     "output_type": "stream",
     "text": [
      "Epoch 1/12\n",
      "616/616 [==============================] - 5s 4ms/step - loss: 849157248.0000 - mse: 849157248.0000 - accuracy: 0.0000e+00\n",
      "Epoch 2/12\n",
      "616/616 [==============================] - 3s 4ms/step - loss: 848558400.0000 - mse: 848558400.0000 - accuracy: 0.0000e+00\n",
      "Epoch 3/12\n",
      "616/616 [==============================] - 3s 4ms/step - loss: 848078848.0000 - mse: 848078848.0000 - accuracy: 0.0000e+00\n",
      "Epoch 4/12\n",
      "616/616 [==============================] - 3s 4ms/step - loss: 847605056.0000 - mse: 847605056.0000 - accuracy: 0.0000e+00\n",
      "Epoch 5/12\n",
      "616/616 [==============================] - 2s 4ms/step - loss: 847136000.0000 - mse: 847136000.0000 - accuracy: 0.0000e+00\n",
      "Epoch 6/12\n",
      "616/616 [==============================] - 2s 4ms/step - loss: 846671360.0000 - mse: 846671360.0000 - accuracy: 0.0000e+00\n",
      "Epoch 7/12\n",
      "616/616 [==============================] - 3s 4ms/step - loss: 846213952.0000 - mse: 846213952.0000 - accuracy: 0.0000e+00\n",
      "Epoch 8/12\n",
      "616/616 [==============================] - 3s 4ms/step - loss: 845760000.0000 - mse: 845760000.0000 - accuracy: 0.0000e+00\n",
      "Epoch 9/12\n",
      "616/616 [==============================] - 3s 4ms/step - loss: 845283328.0000 - mse: 845283328.0000 - accuracy: 0.0000e+00\n",
      "Epoch 10/12\n",
      "616/616 [==============================] - 3s 4ms/step - loss: 844819840.0000 - mse: 844819840.0000 - accuracy: 0.0000e+00\n",
      "Epoch 11/12\n",
      "616/616 [==============================] - 3s 4ms/step - loss: 844377088.0000 - mse: 844377088.0000 - accuracy: 0.0000e+00\n",
      "Epoch 12/12\n",
      "616/616 [==============================] - 3s 4ms/step - loss: 843900288.0000 - mse: 843900288.0000 - accuracy: 0.0000e+00\n"
     ]
    },
    {
     "data": {
      "text/plain": [
       "<keras.callbacks.History at 0x1caedae0f48>"
      ]
     },
     "execution_count": 63,
     "metadata": {},
     "output_type": "execute_result"
    }
   ],
   "source": [
    "# Train the model\n",
    "model.fit(X_train,\n",
    "          y_train,\n",
    "          epochs=12,\n",
    "          #validation_split=0.2,\n",
    "          shuffle=False,\n",
    "          batch_size=1,\n",
    "          verbose=1\n",
    ")"
   ]
  },
  {
   "cell_type": "code",
   "execution_count": 51,
   "id": "ec985bb9",
   "metadata": {},
   "outputs": [
    {
     "name": "stdout",
     "output_type": "stream",
     "text": [
      "5/5 [==============================] - 1s 4ms/step - loss: 2721379328.0000 - mse: 2721379328.0000 - accuracy: 0.0000e+00\n"
     ]
    },
    {
     "data": {
      "text/plain": [
       "[2721379328.0, 2721379328.0, 0.0]"
      ]
     },
     "execution_count": 51,
     "metadata": {},
     "output_type": "execute_result"
    }
   ],
   "source": [
    "# Evaluate the model\n",
    "model.evaluate(X_test, y_test)"
   ]
  },
  {
   "cell_type": "code",
   "execution_count": 52,
   "id": "3c99e0ac",
   "metadata": {},
   "outputs": [
    {
     "ename": "ValueError",
     "evalue": "Found array with dim 3. Estimator expected <= 2.",
     "output_type": "error",
     "traceback": [
      "\u001b[1;31m---------------------------------------------------------------------------\u001b[0m",
      "\u001b[1;31mValueError\u001b[0m                                Traceback (most recent call last)",
      "\u001b[1;32m~\\AppData\\Local\\Temp/ipykernel_10836/2003322359.py\u001b[0m in \u001b[0;36m<module>\u001b[1;34m\u001b[0m\n\u001b[0;32m      3\u001b[0m \u001b[1;33m\u001b[0m\u001b[0m\n\u001b[0;32m      4\u001b[0m \u001b[1;31m# Recover the original prices instead of the scaled version\u001b[0m\u001b[1;33m\u001b[0m\u001b[1;33m\u001b[0m\u001b[1;33m\u001b[0m\u001b[0m\n\u001b[1;32m----> 5\u001b[1;33m \u001b[0mpredicted_prices\u001b[0m \u001b[1;33m=\u001b[0m \u001b[0mscaler\u001b[0m\u001b[1;33m.\u001b[0m\u001b[0minverse_transform\u001b[0m\u001b[1;33m(\u001b[0m\u001b[0mpredicted\u001b[0m\u001b[1;33m)\u001b[0m\u001b[1;33m\u001b[0m\u001b[1;33m\u001b[0m\u001b[0m\n\u001b[0m\u001b[0;32m      6\u001b[0m \u001b[0mreal_prices\u001b[0m \u001b[1;33m=\u001b[0m \u001b[0mscaler\u001b[0m\u001b[1;33m.\u001b[0m\u001b[0minverse_transform\u001b[0m\u001b[1;33m(\u001b[0m\u001b[0my_test\u001b[0m\u001b[1;33m)\u001b[0m\u001b[1;33m\u001b[0m\u001b[1;33m\u001b[0m\u001b[0m\n",
      "\u001b[1;32m~\\anaconda3\\envs\\algotrading\\lib\\site-packages\\sklearn\\preprocessing\\_data.py\u001b[0m in \u001b[0;36minverse_transform\u001b[1;34m(self, X)\u001b[0m\n\u001b[0;32m    524\u001b[0m \u001b[1;33m\u001b[0m\u001b[0m\n\u001b[0;32m    525\u001b[0m         X = check_array(\n\u001b[1;32m--> 526\u001b[1;33m             \u001b[0mX\u001b[0m\u001b[1;33m,\u001b[0m \u001b[0mcopy\u001b[0m\u001b[1;33m=\u001b[0m\u001b[0mself\u001b[0m\u001b[1;33m.\u001b[0m\u001b[0mcopy\u001b[0m\u001b[1;33m,\u001b[0m \u001b[0mdtype\u001b[0m\u001b[1;33m=\u001b[0m\u001b[0mFLOAT_DTYPES\u001b[0m\u001b[1;33m,\u001b[0m \u001b[0mforce_all_finite\u001b[0m\u001b[1;33m=\u001b[0m\u001b[1;34m\"allow-nan\"\u001b[0m\u001b[1;33m\u001b[0m\u001b[1;33m\u001b[0m\u001b[0m\n\u001b[0m\u001b[0;32m    527\u001b[0m         )\n\u001b[0;32m    528\u001b[0m \u001b[1;33m\u001b[0m\u001b[0m\n",
      "\u001b[1;32m~\\anaconda3\\envs\\algotrading\\lib\\site-packages\\sklearn\\utils\\validation.py\u001b[0m in \u001b[0;36mcheck_array\u001b[1;34m(array, accept_sparse, accept_large_sparse, dtype, order, copy, force_all_finite, ensure_2d, allow_nd, ensure_min_samples, ensure_min_features, estimator)\u001b[0m\n\u001b[0;32m    794\u001b[0m             raise ValueError(\n\u001b[0;32m    795\u001b[0m                 \u001b[1;34m\"Found array with dim %d. %s expected <= 2.\"\u001b[0m\u001b[1;33m\u001b[0m\u001b[1;33m\u001b[0m\u001b[0m\n\u001b[1;32m--> 796\u001b[1;33m                 \u001b[1;33m%\u001b[0m \u001b[1;33m(\u001b[0m\u001b[0marray\u001b[0m\u001b[1;33m.\u001b[0m\u001b[0mndim\u001b[0m\u001b[1;33m,\u001b[0m \u001b[0mestimator_name\u001b[0m\u001b[1;33m)\u001b[0m\u001b[1;33m\u001b[0m\u001b[1;33m\u001b[0m\u001b[0m\n\u001b[0m\u001b[0;32m    797\u001b[0m             )\n\u001b[0;32m    798\u001b[0m \u001b[1;33m\u001b[0m\u001b[0m\n",
      "\u001b[1;31mValueError\u001b[0m: Found array with dim 3. Estimator expected <= 2."
     ]
    }
   ],
   "source": [
    "# Make some predictions\n",
    "predicted = model.predict(X_test)\n",
    "\n",
    "# Recover the original prices instead of the scaled version\n",
    "predicted_prices = scaler.inverse_transform(predicted)\n",
    "real_prices = scaler.inverse_transform(y_test.reshape(-1, 1))"
   ]
  },
  {
   "cell_type": "code",
   "execution_count": null,
   "id": "10f3ddab",
   "metadata": {},
   "outputs": [],
   "source": [
    "# Create a DataFrame of Real and Predicted values\n",
    "stocks = pd.DataFrame({\n",
    "    \"Actual\": real_prices.ravel(),\n",
    "    \"Predicted\": predicted_prices.ravel()\n",
    "}, index = data_price.index[-len(real_prices): ]) \n",
    "\n",
    "# Show the DataFrame's head\n",
    "stocks.tail()"
   ]
  },
  {
   "cell_type": "code",
   "execution_count": null,
   "id": "1e382158",
   "metadata": {},
   "outputs": [],
   "source": [
    "stocks.plot(title=f\"Actual Vs. Predicted {ticker} Prices\");"
   ]
  },
  {
   "cell_type": "code",
   "execution_count": null,
   "id": "bc56fc9e",
   "metadata": {},
   "outputs": [],
   "source": []
  }
 ],
 "metadata": {
  "kernelspec": {
   "display_name": "Python 3 (ipykernel)",
   "language": "python",
   "name": "python3"
  },
  "language_info": {
   "codemirror_mode": {
    "name": "ipython",
    "version": 3
   },
   "file_extension": ".py",
   "mimetype": "text/x-python",
   "name": "python",
   "nbconvert_exporter": "python",
   "pygments_lexer": "ipython3",
   "version": "3.7.11"
  }
 },
 "nbformat": 4,
 "nbformat_minor": 5
}
