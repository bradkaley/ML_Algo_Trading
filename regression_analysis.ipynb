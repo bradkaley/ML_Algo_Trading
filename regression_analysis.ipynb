{
 "cells": [
  {
   "cell_type": "code",
   "execution_count": 1,
   "metadata": {},
   "outputs": [],
   "source": [
    "import numpy as np\n",
    "import pandas as pd\n",
    "from pathlib import Path\n",
    "%matplotlib inline\n",
    "# Initial imports\n",
    "import numpy as np\n",
    "import pandas as pd\n",
    "\n",
    "\n",
    "# API import\n",
    "import requests\n",
    "import json\n",
    "\n",
    "# Data cleaning\n",
    "from datetime import datetime\n",
    "\n",
    "\n",
    "# Plot import\n",
    "%matplotlib inline\n"
   ]
  },
  {
   "cell_type": "code",
   "execution_count": 22,
   "metadata": {},
   "outputs": [
    {
     "data": {
      "text/html": [
       "<div>\n",
       "<style scoped>\n",
       "    .dataframe tbody tr th:only-of-type {\n",
       "        vertical-align: middle;\n",
       "    }\n",
       "\n",
       "    .dataframe tbody tr th {\n",
       "        vertical-align: top;\n",
       "    }\n",
       "\n",
       "    .dataframe thead th {\n",
       "        text-align: right;\n",
       "    }\n",
       "</style>\n",
       "<table border=\"1\" class=\"dataframe\">\n",
       "  <thead>\n",
       "    <tr style=\"text-align: right;\">\n",
       "      <th></th>\n",
       "      <th>Opening_price</th>\n",
       "      <th>Closing_price</th>\n",
       "      <th>Highest_price</th>\n",
       "      <th>Lowest_price</th>\n",
       "      <th>Transaction_volume</th>\n",
       "      <th>Transaction_amount</th>\n",
       "    </tr>\n",
       "    <tr>\n",
       "      <th>Hour</th>\n",
       "      <th></th>\n",
       "      <th></th>\n",
       "      <th></th>\n",
       "      <th></th>\n",
       "      <th></th>\n",
       "      <th></th>\n",
       "    </tr>\n",
       "  </thead>\n",
       "  <tbody>\n",
       "    <tr>\n",
       "      <th>2022-01-20 20:00:00</th>\n",
       "      <td>3215.74</td>\n",
       "      <td>3195.28</td>\n",
       "      <td>3219.04</td>\n",
       "      <td>3184.00</td>\n",
       "      <td>3806.383624</td>\n",
       "      <td>1.217706e+07</td>\n",
       "    </tr>\n",
       "    <tr>\n",
       "      <th>2022-01-20 21:00:00</th>\n",
       "      <td>3195.29</td>\n",
       "      <td>3080.74</td>\n",
       "      <td>3197.26</td>\n",
       "      <td>3080.04</td>\n",
       "      <td>8957.291509</td>\n",
       "      <td>2.806991e+07</td>\n",
       "    </tr>\n",
       "    <tr>\n",
       "      <th>2022-01-20 22:00:00</th>\n",
       "      <td>3080.77</td>\n",
       "      <td>3061.41</td>\n",
       "      <td>3106.49</td>\n",
       "      <td>3022.74</td>\n",
       "      <td>8042.983697</td>\n",
       "      <td>2.470389e+07</td>\n",
       "    </tr>\n",
       "    <tr>\n",
       "      <th>2022-01-20 23:00:00</th>\n",
       "      <td>3061.41</td>\n",
       "      <td>3000.95</td>\n",
       "      <td>3061.81</td>\n",
       "      <td>2986.97</td>\n",
       "      <td>8846.349723</td>\n",
       "      <td>2.669846e+07</td>\n",
       "    </tr>\n",
       "    <tr>\n",
       "      <th>2022-01-21 00:00:00</th>\n",
       "      <td>3000.41</td>\n",
       "      <td>3028.44</td>\n",
       "      <td>3037.11</td>\n",
       "      <td>2972.19</td>\n",
       "      <td>7630.620051</td>\n",
       "      <td>2.290540e+07</td>\n",
       "    </tr>\n",
       "  </tbody>\n",
       "</table>\n",
       "</div>"
      ],
      "text/plain": [
       "                     Opening_price  Closing_price  Highest_price  \\\n",
       "Hour                                                               \n",
       "2022-01-20 20:00:00        3215.74        3195.28        3219.04   \n",
       "2022-01-20 21:00:00        3195.29        3080.74        3197.26   \n",
       "2022-01-20 22:00:00        3080.77        3061.41        3106.49   \n",
       "2022-01-20 23:00:00        3061.41        3000.95        3061.81   \n",
       "2022-01-21 00:00:00        3000.41        3028.44        3037.11   \n",
       "\n",
       "                     Lowest_price  Transaction_volume  Transaction_amount  \n",
       "Hour                                                                       \n",
       "2022-01-20 20:00:00       3184.00         3806.383624        1.217706e+07  \n",
       "2022-01-20 21:00:00       3080.04         8957.291509        2.806991e+07  \n",
       "2022-01-20 22:00:00       3022.74         8042.983697        2.470389e+07  \n",
       "2022-01-20 23:00:00       2986.97         8846.349723        2.669846e+07  \n",
       "2022-01-21 00:00:00       2972.19         7630.620051        2.290540e+07  "
      ]
     },
     "execution_count": 22,
     "metadata": {},
     "output_type": "execute_result"
    }
   ],
   "source": [
    "ticker = \"ETH\"\n",
    "frequency = \"1hour\"\n",
    "epoch = \"1620360000\"\n",
    "response_data = requests.get(f'https://api.kucoin.com/api/v1/market/candles?type={frequency}&symbol={ticker}-USDT&startAt={epoch}&endAt=0&limit=10000').json()\n",
    "\n",
    "data_price = pd.DataFrame(response_data['data'])\n",
    "data_price[0] = pd.to_datetime(data_price[0], unit='s')\n",
    "data_price.columns =['Hour', 'Opening_price',  'Closing_price' , 'Highest_price' , 'Lowest_price' , 'Transaction_volume' ,  'Transaction_amount']\n",
    "data_price.sort_values(by=['Hour'], inplace=True)\n",
    "data_price.set_index('Hour', inplace=True)\n",
    "data_price = data_price.astype(float)\n",
    "data_price.tail()"
   ]
  },
  {
   "cell_type": "code",
   "execution_count": 41,
   "metadata": {},
   "outputs": [
    {
     "data": {
      "text/plain": [
       "Timestamp('2022-01-21 00:00:00')"
      ]
     },
     "execution_count": 41,
     "metadata": {},
     "output_type": "execute_result"
    }
   ],
   "source": [
    "data_price.index.max()\n"
   ]
  },
  {
   "cell_type": "code",
   "execution_count": 26,
   "metadata": {},
   "outputs": [],
   "source": [
    "import statsmodels.api as sm\n",
    "\n",
    "# Apply the Hodrick-Prescott Filter by decomposing the \"Closing_price\" price into two separate series:\n",
    "Data_noise, Data_trend = sm.tsa.filters.hpfilter(data_price[\"Closing_price\"])"
   ]
  },
  {
   "cell_type": "code",
   "execution_count": 27,
   "metadata": {},
   "outputs": [
    {
     "data": {
      "text/html": [
       "<div>\n",
       "<style scoped>\n",
       "    .dataframe tbody tr th:only-of-type {\n",
       "        vertical-align: middle;\n",
       "    }\n",
       "\n",
       "    .dataframe tbody tr th {\n",
       "        vertical-align: top;\n",
       "    }\n",
       "\n",
       "    .dataframe thead th {\n",
       "        text-align: right;\n",
       "    }\n",
       "</style>\n",
       "<table border=\"1\" class=\"dataframe\">\n",
       "  <thead>\n",
       "    <tr style=\"text-align: right;\">\n",
       "      <th></th>\n",
       "      <th>Closing_price</th>\n",
       "      <th>Noise</th>\n",
       "      <th>Trend</th>\n",
       "    </tr>\n",
       "    <tr>\n",
       "      <th>Hour</th>\n",
       "      <th></th>\n",
       "      <th></th>\n",
       "      <th></th>\n",
       "    </tr>\n",
       "  </thead>\n",
       "  <tbody>\n",
       "    <tr>\n",
       "      <th>2021-11-19 13:00:00</th>\n",
       "      <td>4206.44</td>\n",
       "      <td>-28.741670</td>\n",
       "      <td>4235.181670</td>\n",
       "    </tr>\n",
       "    <tr>\n",
       "      <th>2021-11-19 14:00:00</th>\n",
       "      <td>4232.98</td>\n",
       "      <td>-6.746140</td>\n",
       "      <td>4239.726140</td>\n",
       "    </tr>\n",
       "    <tr>\n",
       "      <th>2021-11-19 15:00:00</th>\n",
       "      <td>4216.79</td>\n",
       "      <td>-27.462647</td>\n",
       "      <td>4244.252647</td>\n",
       "    </tr>\n",
       "    <tr>\n",
       "      <th>2021-11-19 16:00:00</th>\n",
       "      <td>4251.43</td>\n",
       "      <td>2.690990</td>\n",
       "      <td>4248.739010</td>\n",
       "    </tr>\n",
       "    <tr>\n",
       "      <th>2021-11-19 17:00:00</th>\n",
       "      <td>4255.39</td>\n",
       "      <td>2.244115</td>\n",
       "      <td>4253.145885</td>\n",
       "    </tr>\n",
       "  </tbody>\n",
       "</table>\n",
       "</div>"
      ],
      "text/plain": [
       "                     Closing_price      Noise        Trend\n",
       "Hour                                                      \n",
       "2021-11-19 13:00:00        4206.44 -28.741670  4235.181670\n",
       "2021-11-19 14:00:00        4232.98  -6.746140  4239.726140\n",
       "2021-11-19 15:00:00        4216.79 -27.462647  4244.252647\n",
       "2021-11-19 16:00:00        4251.43   2.690990  4248.739010\n",
       "2021-11-19 17:00:00        4255.39   2.244115  4253.145885"
      ]
     },
     "execution_count": 27,
     "metadata": {},
     "output_type": "execute_result"
    }
   ],
   "source": [
    "# Create a dataframe of just the settle price, and add columns for \"noise\" and \"trend\" series from above:\n",
    "Decomp_data = pd.DataFrame(data_price[\"Closing_price\"])\n",
    "Decomp_data['Noise'] = Data_noise\n",
    "Decomp_data['Trend'] = Data_trend\n",
    "Decomp_data.head()\n"
   ]
  },
  {
   "cell_type": "code",
   "execution_count": 28,
   "metadata": {},
   "outputs": [
    {
     "data": {
      "text/plain": [
       "<matplotlib.axes._subplots.AxesSubplot at 0x148577750>"
      ]
     },
     "execution_count": 28,
     "metadata": {},
     "output_type": "execute_result"
    },
    {
     "data": {
      "image/png": "[encoded data removed]",
      "text/plain": [
       "<Figure size 864x576 with 1 Axes>"
      ]
     },
     "metadata": {
      "needs_background": "light"
     },
     "output_type": "display_data"
    }
   ],
   "source": [
    "# # Plot the Settle Price vs. the Trend for 2015 to the present\n",
    "Decomp_data[[\"Closing_price\", \"Trend\"]][\"2021-11-01\":].plot(figsize=(12, 8), title=\"Closing Price vs. Trend\")"
   ]
  },
  {
   "cell_type": "code",
   "execution_count": 29,
   "metadata": {},
   "outputs": [
    {
     "data": {
      "text/plain": [
       "<matplotlib.axes._subplots.AxesSubplot at 0x14892d190>"
      ]
     },
     "execution_count": 29,
     "metadata": {},
     "output_type": "execute_result"
    },
    {
     "data": {
      "image/png": "[encoded data removed]",
      "text/plain": [
       "<Figure size 864x576 with 1 Axes>"
      ]
     },
     "metadata": {
      "needs_background": "light"
     },
     "output_type": "display_data"
    }
   ],
   "source": [
    "# Plot the Settle Noise\n",
    "Data_noise.plot(figsize=(12, 8), title=\"Noise\")"
   ]
  },
  {
   "cell_type": "markdown",
   "metadata": {},
   "source": [
    "# Regression Analysis: Seasonal Effects with Sklearn Linear Regression\n",
    "In this notebook, you will build a SKLearn linear regression model to predict Yen futures (\"settle\") returns with *lagged* Yen futures returns. "
   ]
  },
  {
   "cell_type": "markdown",
   "metadata": {},
   "source": [
    "# Data Preparation"
   ]
  },
  {
   "cell_type": "markdown",
   "metadata": {},
   "source": [
    "### Returns"
   ]
  },
  {
   "cell_type": "code",
   "execution_count": 30,
   "metadata": {},
   "outputs": [
    {
     "data": {
      "text/html": [
       "<div>\n",
       "<style scoped>\n",
       "    .dataframe tbody tr th:only-of-type {\n",
       "        vertical-align: middle;\n",
       "    }\n",
       "\n",
       "    .dataframe tbody tr th {\n",
       "        vertical-align: top;\n",
       "    }\n",
       "\n",
       "    .dataframe thead th {\n",
       "        text-align: right;\n",
       "    }\n",
       "</style>\n",
       "<table border=\"1\" class=\"dataframe\">\n",
       "  <thead>\n",
       "    <tr style=\"text-align: right;\">\n",
       "      <th></th>\n",
       "      <th>Opening_price</th>\n",
       "      <th>Closing_price</th>\n",
       "      <th>Highest_price</th>\n",
       "      <th>Lowest_price</th>\n",
       "      <th>Transaction_volume</th>\n",
       "      <th>Transaction_amount</th>\n",
       "      <th>Return</th>\n",
       "    </tr>\n",
       "    <tr>\n",
       "      <th>Hour</th>\n",
       "      <th></th>\n",
       "      <th></th>\n",
       "      <th></th>\n",
       "      <th></th>\n",
       "      <th></th>\n",
       "      <th></th>\n",
       "      <th></th>\n",
       "    </tr>\n",
       "  </thead>\n",
       "  <tbody>\n",
       "    <tr>\n",
       "      <th>2021-11-19 13:00:00</th>\n",
       "      <td>4141.31</td>\n",
       "      <td>4206.44</td>\n",
       "      <td>4209.11</td>\n",
       "      <td>4131.60</td>\n",
       "      <td>4052.052134</td>\n",
       "      <td>1.692205e+07</td>\n",
       "      <td>NaN</td>\n",
       "    </tr>\n",
       "    <tr>\n",
       "      <th>2021-11-19 14:00:00</th>\n",
       "      <td>4206.43</td>\n",
       "      <td>4232.98</td>\n",
       "      <td>4239.15</td>\n",
       "      <td>4188.45</td>\n",
       "      <td>3594.458633</td>\n",
       "      <td>1.514779e+07</td>\n",
       "      <td>0.630937</td>\n",
       "    </tr>\n",
       "    <tr>\n",
       "      <th>2021-11-19 15:00:00</th>\n",
       "      <td>4233.96</td>\n",
       "      <td>4216.79</td>\n",
       "      <td>4237.15</td>\n",
       "      <td>4206.91</td>\n",
       "      <td>2620.933387</td>\n",
       "      <td>1.106367e+07</td>\n",
       "      <td>-0.382473</td>\n",
       "    </tr>\n",
       "    <tr>\n",
       "      <th>2021-11-19 16:00:00</th>\n",
       "      <td>4216.79</td>\n",
       "      <td>4251.43</td>\n",
       "      <td>4255.90</td>\n",
       "      <td>4210.11</td>\n",
       "      <td>2283.032499</td>\n",
       "      <td>9.654136e+06</td>\n",
       "      <td>0.821478</td>\n",
       "    </tr>\n",
       "    <tr>\n",
       "      <th>2021-11-19 17:00:00</th>\n",
       "      <td>4251.43</td>\n",
       "      <td>4255.39</td>\n",
       "      <td>4277.86</td>\n",
       "      <td>4250.06</td>\n",
       "      <td>2418.567154</td>\n",
       "      <td>1.031561e+07</td>\n",
       "      <td>0.093145</td>\n",
       "    </tr>\n",
       "    <tr>\n",
       "      <th>...</th>\n",
       "      <td>...</td>\n",
       "      <td>...</td>\n",
       "      <td>...</td>\n",
       "      <td>...</td>\n",
       "      <td>...</td>\n",
       "      <td>...</td>\n",
       "      <td>...</td>\n",
       "    </tr>\n",
       "    <tr>\n",
       "      <th>2022-01-20 20:00:00</th>\n",
       "      <td>3215.74</td>\n",
       "      <td>3195.28</td>\n",
       "      <td>3219.04</td>\n",
       "      <td>3184.00</td>\n",
       "      <td>3806.383624</td>\n",
       "      <td>1.217706e+07</td>\n",
       "      <td>-0.636245</td>\n",
       "    </tr>\n",
       "    <tr>\n",
       "      <th>2022-01-20 21:00:00</th>\n",
       "      <td>3195.29</td>\n",
       "      <td>3080.74</td>\n",
       "      <td>3197.26</td>\n",
       "      <td>3080.04</td>\n",
       "      <td>8957.291509</td>\n",
       "      <td>2.806991e+07</td>\n",
       "      <td>-3.584662</td>\n",
       "    </tr>\n",
       "    <tr>\n",
       "      <th>2022-01-20 22:00:00</th>\n",
       "      <td>3080.77</td>\n",
       "      <td>3061.41</td>\n",
       "      <td>3106.49</td>\n",
       "      <td>3022.74</td>\n",
       "      <td>8042.983697</td>\n",
       "      <td>2.470389e+07</td>\n",
       "      <td>-0.627447</td>\n",
       "    </tr>\n",
       "    <tr>\n",
       "      <th>2022-01-20 23:00:00</th>\n",
       "      <td>3061.41</td>\n",
       "      <td>3000.95</td>\n",
       "      <td>3061.81</td>\n",
       "      <td>2986.97</td>\n",
       "      <td>8846.349723</td>\n",
       "      <td>2.669846e+07</td>\n",
       "      <td>-1.974907</td>\n",
       "    </tr>\n",
       "    <tr>\n",
       "      <th>2022-01-21 00:00:00</th>\n",
       "      <td>3000.41</td>\n",
       "      <td>3028.44</td>\n",
       "      <td>3037.11</td>\n",
       "      <td>2972.19</td>\n",
       "      <td>7630.620051</td>\n",
       "      <td>2.290540e+07</td>\n",
       "      <td>0.916043</td>\n",
       "    </tr>\n",
       "  </tbody>\n",
       "</table>\n",
       "<p>1500 rows × 7 columns</p>\n",
       "</div>"
      ],
      "text/plain": [
       "                     Opening_price  Closing_price  Highest_price  \\\n",
       "Hour                                                               \n",
       "2021-11-19 13:00:00        4141.31        4206.44        4209.11   \n",
       "2021-11-19 14:00:00        4206.43        4232.98        4239.15   \n",
       "2021-11-19 15:00:00        4233.96        4216.79        4237.15   \n",
       "2021-11-19 16:00:00        4216.79        4251.43        4255.90   \n",
       "2021-11-19 17:00:00        4251.43        4255.39        4277.86   \n",
       "...                            ...            ...            ...   \n",
       "2022-01-20 20:00:00        3215.74        3195.28        3219.04   \n",
       "2022-01-20 21:00:00        3195.29        3080.74        3197.26   \n",
       "2022-01-20 22:00:00        3080.77        3061.41        3106.49   \n",
       "2022-01-20 23:00:00        3061.41        3000.95        3061.81   \n",
       "2022-01-21 00:00:00        3000.41        3028.44        3037.11   \n",
       "\n",
       "                     Lowest_price  Transaction_volume  Transaction_amount  \\\n",
       "Hour                                                                        \n",
       "2021-11-19 13:00:00       4131.60         4052.052134        1.692205e+07   \n",
       "2021-11-19 14:00:00       4188.45         3594.458633        1.514779e+07   \n",
       "2021-11-19 15:00:00       4206.91         2620.933387        1.106367e+07   \n",
       "2021-11-19 16:00:00       4210.11         2283.032499        9.654136e+06   \n",
       "2021-11-19 17:00:00       4250.06         2418.567154        1.031561e+07   \n",
       "...                           ...                 ...                 ...   \n",
       "2022-01-20 20:00:00       3184.00         3806.383624        1.217706e+07   \n",
       "2022-01-20 21:00:00       3080.04         8957.291509        2.806991e+07   \n",
       "2022-01-20 22:00:00       3022.74         8042.983697        2.470389e+07   \n",
       "2022-01-20 23:00:00       2986.97         8846.349723        2.669846e+07   \n",
       "2022-01-21 00:00:00       2972.19         7630.620051        2.290540e+07   \n",
       "\n",
       "                       Return  \n",
       "Hour                           \n",
       "2021-11-19 13:00:00       NaN  \n",
       "2021-11-19 14:00:00  0.630937  \n",
       "2021-11-19 15:00:00 -0.382473  \n",
       "2021-11-19 16:00:00  0.821478  \n",
       "2021-11-19 17:00:00  0.093145  \n",
       "...                       ...  \n",
       "2022-01-20 20:00:00 -0.636245  \n",
       "2022-01-20 21:00:00 -3.584662  \n",
       "2022-01-20 22:00:00 -0.627447  \n",
       "2022-01-20 23:00:00 -1.974907  \n",
       "2022-01-21 00:00:00  0.916043  \n",
       "\n",
       "[1500 rows x 7 columns]"
      ]
     },
     "execution_count": 30,
     "metadata": {},
     "output_type": "execute_result"
    }
   ],
   "source": [
    "data_price['Return'] = data_price.Closing_price.pct_change() * 100\n",
    "data_price"
   ]
  },
  {
   "cell_type": "code",
   "execution_count": 31,
   "metadata": {},
   "outputs": [
    {
     "data": {
      "text/html": [
       "<div>\n",
       "<style scoped>\n",
       "    .dataframe tbody tr th:only-of-type {\n",
       "        vertical-align: middle;\n",
       "    }\n",
       "\n",
       "    .dataframe tbody tr th {\n",
       "        vertical-align: top;\n",
       "    }\n",
       "\n",
       "    .dataframe thead th {\n",
       "        text-align: right;\n",
       "    }\n",
       "</style>\n",
       "<table border=\"1\" class=\"dataframe\">\n",
       "  <thead>\n",
       "    <tr style=\"text-align: right;\">\n",
       "      <th></th>\n",
       "      <th>Opening_price</th>\n",
       "      <th>Closing_price</th>\n",
       "      <th>Highest_price</th>\n",
       "      <th>Lowest_price</th>\n",
       "      <th>Transaction_volume</th>\n",
       "      <th>Transaction_amount</th>\n",
       "      <th>Return</th>\n",
       "    </tr>\n",
       "    <tr>\n",
       "      <th>Hour</th>\n",
       "      <th></th>\n",
       "      <th></th>\n",
       "      <th></th>\n",
       "      <th></th>\n",
       "      <th></th>\n",
       "      <th></th>\n",
       "      <th></th>\n",
       "    </tr>\n",
       "  </thead>\n",
       "  <tbody>\n",
       "    <tr>\n",
       "      <th>2021-11-19 14:00:00</th>\n",
       "      <td>4206.43</td>\n",
       "      <td>4232.98</td>\n",
       "      <td>4239.15</td>\n",
       "      <td>4188.45</td>\n",
       "      <td>3594.458633</td>\n",
       "      <td>1.514779e+07</td>\n",
       "      <td>0.630937</td>\n",
       "    </tr>\n",
       "    <tr>\n",
       "      <th>2021-11-19 15:00:00</th>\n",
       "      <td>4233.96</td>\n",
       "      <td>4216.79</td>\n",
       "      <td>4237.15</td>\n",
       "      <td>4206.91</td>\n",
       "      <td>2620.933387</td>\n",
       "      <td>1.106367e+07</td>\n",
       "      <td>-0.382473</td>\n",
       "    </tr>\n",
       "    <tr>\n",
       "      <th>2021-11-19 16:00:00</th>\n",
       "      <td>4216.79</td>\n",
       "      <td>4251.43</td>\n",
       "      <td>4255.90</td>\n",
       "      <td>4210.11</td>\n",
       "      <td>2283.032499</td>\n",
       "      <td>9.654136e+06</td>\n",
       "      <td>0.821478</td>\n",
       "    </tr>\n",
       "    <tr>\n",
       "      <th>2021-11-19 17:00:00</th>\n",
       "      <td>4251.43</td>\n",
       "      <td>4255.39</td>\n",
       "      <td>4277.86</td>\n",
       "      <td>4250.06</td>\n",
       "      <td>2418.567154</td>\n",
       "      <td>1.031561e+07</td>\n",
       "      <td>0.093145</td>\n",
       "    </tr>\n",
       "    <tr>\n",
       "      <th>2021-11-19 18:00:00</th>\n",
       "      <td>4254.88</td>\n",
       "      <td>4266.18</td>\n",
       "      <td>4266.99</td>\n",
       "      <td>4243.48</td>\n",
       "      <td>1863.737369</td>\n",
       "      <td>7.932873e+06</td>\n",
       "      <td>0.253561</td>\n",
       "    </tr>\n",
       "  </tbody>\n",
       "</table>\n",
       "</div>"
      ],
      "text/plain": [
       "                     Opening_price  Closing_price  Highest_price  \\\n",
       "Hour                                                               \n",
       "2021-11-19 14:00:00        4206.43        4232.98        4239.15   \n",
       "2021-11-19 15:00:00        4233.96        4216.79        4237.15   \n",
       "2021-11-19 16:00:00        4216.79        4251.43        4255.90   \n",
       "2021-11-19 17:00:00        4251.43        4255.39        4277.86   \n",
       "2021-11-19 18:00:00        4254.88        4266.18        4266.99   \n",
       "\n",
       "                     Lowest_price  Transaction_volume  Transaction_amount  \\\n",
       "Hour                                                                        \n",
       "2021-11-19 14:00:00       4188.45         3594.458633        1.514779e+07   \n",
       "2021-11-19 15:00:00       4206.91         2620.933387        1.106367e+07   \n",
       "2021-11-19 16:00:00       4210.11         2283.032499        9.654136e+06   \n",
       "2021-11-19 17:00:00       4250.06         2418.567154        1.031561e+07   \n",
       "2021-11-19 18:00:00       4243.48         1863.737369        7.932873e+06   \n",
       "\n",
       "                       Return  \n",
       "Hour                           \n",
       "2021-11-19 14:00:00  0.630937  \n",
       "2021-11-19 15:00:00 -0.382473  \n",
       "2021-11-19 16:00:00  0.821478  \n",
       "2021-11-19 17:00:00  0.093145  \n",
       "2021-11-19 18:00:00  0.253561  "
      ]
     },
     "execution_count": 31,
     "metadata": {},
     "output_type": "execute_result"
    }
   ],
   "source": [
    "# Create a series using \"Settle\" price percentage returns, drop any nan\"s, and check the results:\n",
    "# (Make sure to multiply the pct_change() results by 100)\n",
    "data_price['Return'] = data_price.Closing_price.pct_change() * 100\n",
    "\n",
    "# In this case, you may have to replace inf, -inf values with np.nan\"s\n",
    "data_price = data_price.replace(-np.inf, np.nan).dropna()\n",
    "data_price = data_price.replace(np.inf, np.nan).dropna()\n",
    "data_price = data_price.dropna()\n",
    "data_price.head()"
   ]
  },
  {
   "cell_type": "markdown",
   "metadata": {},
   "source": [
    "### Lagged Returns "
   ]
  },
  {
   "cell_type": "code",
   "execution_count": 32,
   "metadata": {},
   "outputs": [
    {
     "data": {
      "text/html": [
       "<div>\n",
       "<style scoped>\n",
       "    .dataframe tbody tr th:only-of-type {\n",
       "        vertical-align: middle;\n",
       "    }\n",
       "\n",
       "    .dataframe tbody tr th {\n",
       "        vertical-align: top;\n",
       "    }\n",
       "\n",
       "    .dataframe thead th {\n",
       "        text-align: right;\n",
       "    }\n",
       "</style>\n",
       "<table border=\"1\" class=\"dataframe\">\n",
       "  <thead>\n",
       "    <tr style=\"text-align: right;\">\n",
       "      <th></th>\n",
       "      <th>Opening_price</th>\n",
       "      <th>Closing_price</th>\n",
       "      <th>Highest_price</th>\n",
       "      <th>Lowest_price</th>\n",
       "      <th>Transaction_volume</th>\n",
       "      <th>Transaction_amount</th>\n",
       "      <th>Return</th>\n",
       "      <th>Lagged_Return</th>\n",
       "    </tr>\n",
       "    <tr>\n",
       "      <th>Hour</th>\n",
       "      <th></th>\n",
       "      <th></th>\n",
       "      <th></th>\n",
       "      <th></th>\n",
       "      <th></th>\n",
       "      <th></th>\n",
       "      <th></th>\n",
       "      <th></th>\n",
       "    </tr>\n",
       "  </thead>\n",
       "  <tbody>\n",
       "    <tr>\n",
       "      <th>2021-11-19 15:00:00</th>\n",
       "      <td>4233.96</td>\n",
       "      <td>4216.79</td>\n",
       "      <td>4237.15</td>\n",
       "      <td>4206.91</td>\n",
       "      <td>2620.933387</td>\n",
       "      <td>1.106367e+07</td>\n",
       "      <td>-0.382473</td>\n",
       "      <td>0.630937</td>\n",
       "    </tr>\n",
       "    <tr>\n",
       "      <th>2021-11-19 16:00:00</th>\n",
       "      <td>4216.79</td>\n",
       "      <td>4251.43</td>\n",
       "      <td>4255.90</td>\n",
       "      <td>4210.11</td>\n",
       "      <td>2283.032499</td>\n",
       "      <td>9.654136e+06</td>\n",
       "      <td>0.821478</td>\n",
       "      <td>-0.382473</td>\n",
       "    </tr>\n",
       "    <tr>\n",
       "      <th>2021-11-19 17:00:00</th>\n",
       "      <td>4251.43</td>\n",
       "      <td>4255.39</td>\n",
       "      <td>4277.86</td>\n",
       "      <td>4250.06</td>\n",
       "      <td>2418.567154</td>\n",
       "      <td>1.031561e+07</td>\n",
       "      <td>0.093145</td>\n",
       "      <td>0.821478</td>\n",
       "    </tr>\n",
       "    <tr>\n",
       "      <th>2021-11-19 18:00:00</th>\n",
       "      <td>4254.88</td>\n",
       "      <td>4266.18</td>\n",
       "      <td>4266.99</td>\n",
       "      <td>4243.48</td>\n",
       "      <td>1863.737369</td>\n",
       "      <td>7.932873e+06</td>\n",
       "      <td>0.253561</td>\n",
       "      <td>0.093145</td>\n",
       "    </tr>\n",
       "    <tr>\n",
       "      <th>2021-11-19 19:00:00</th>\n",
       "      <td>4266.19</td>\n",
       "      <td>4291.16</td>\n",
       "      <td>4298.20</td>\n",
       "      <td>4254.75</td>\n",
       "      <td>2148.751506</td>\n",
       "      <td>9.182966e+06</td>\n",
       "      <td>0.585536</td>\n",
       "      <td>0.253561</td>\n",
       "    </tr>\n",
       "  </tbody>\n",
       "</table>\n",
       "</div>"
      ],
      "text/plain": [
       "                     Opening_price  Closing_price  Highest_price  \\\n",
       "Hour                                                               \n",
       "2021-11-19 15:00:00        4233.96        4216.79        4237.15   \n",
       "2021-11-19 16:00:00        4216.79        4251.43        4255.90   \n",
       "2021-11-19 17:00:00        4251.43        4255.39        4277.86   \n",
       "2021-11-19 18:00:00        4254.88        4266.18        4266.99   \n",
       "2021-11-19 19:00:00        4266.19        4291.16        4298.20   \n",
       "\n",
       "                     Lowest_price  Transaction_volume  Transaction_amount  \\\n",
       "Hour                                                                        \n",
       "2021-11-19 15:00:00       4206.91         2620.933387        1.106367e+07   \n",
       "2021-11-19 16:00:00       4210.11         2283.032499        9.654136e+06   \n",
       "2021-11-19 17:00:00       4250.06         2418.567154        1.031561e+07   \n",
       "2021-11-19 18:00:00       4243.48         1863.737369        7.932873e+06   \n",
       "2021-11-19 19:00:00       4254.75         2148.751506        9.182966e+06   \n",
       "\n",
       "                       Return  Lagged_Return  \n",
       "Hour                                          \n",
       "2021-11-19 15:00:00 -0.382473       0.630937  \n",
       "2021-11-19 16:00:00  0.821478      -0.382473  \n",
       "2021-11-19 17:00:00  0.093145       0.821478  \n",
       "2021-11-19 18:00:00  0.253561       0.093145  \n",
       "2021-11-19 19:00:00  0.585536       0.253561  "
      ]
     },
     "execution_count": 32,
     "metadata": {},
     "output_type": "execute_result"
    }
   ],
   "source": [
    "# Create a lagged return using the shift function\n",
    "data_price['Lagged_Return'] = data_price.Return.shift()\n",
    "data_price = data_price.replace(-np.inf, np.nan).dropna()\n",
    "data_price = data_price.replace(np.inf, np.nan).dropna()\n",
    "data_price = data_price.dropna()\n",
    "data_price.head()"
   ]
  },
  {
   "cell_type": "markdown",
   "metadata": {},
   "source": [
    "### Train Test Split"
   ]
  },
  {
   "cell_type": "code",
   "execution_count": 42,
   "metadata": {},
   "outputs": [],
   "source": [
    "# Create a train/test split for the data using 2018-2019 for testing and the rest for training\n",
    "train = data_price[:'2022-1-10']\n",
    "test = data_price['2022-1-10':]"
   ]
  },
  {
   "cell_type": "code",
   "execution_count": 43,
   "metadata": {},
   "outputs": [],
   "source": [
    "# Create four dataframes:\n",
    "# X_train (training set using just the independent variables), X_test (test set of of just the independent variables)\n",
    "# Y_train (training set using just the \"y\" variable, i.e., \"Futures Return\"), Y_test (test set of just the \"y\" variable):\n",
    "X_train = train[\"Lagged_Return\"].to_frame()\n",
    "X_test = test[\"Lagged_Return\"].to_frame()\n",
    "y_train = train[\"Return\"]\n",
    "y_test = test[\"Return\"]"
   ]
  },
  {
   "cell_type": "code",
   "execution_count": 44,
   "metadata": {},
   "outputs": [
    {
     "data": {
      "text/html": [
       "<div>\n",
       "<style scoped>\n",
       "    .dataframe tbody tr th:only-of-type {\n",
       "        vertical-align: middle;\n",
       "    }\n",
       "\n",
       "    .dataframe tbody tr th {\n",
       "        vertical-align: top;\n",
       "    }\n",
       "\n",
       "    .dataframe thead th {\n",
       "        text-align: right;\n",
       "    }\n",
       "</style>\n",
       "<table border=\"1\" class=\"dataframe\">\n",
       "  <thead>\n",
       "    <tr style=\"text-align: right;\">\n",
       "      <th></th>\n",
       "      <th>Lagged_Return</th>\n",
       "    </tr>\n",
       "    <tr>\n",
       "      <th>Hour</th>\n",
       "      <th></th>\n",
       "    </tr>\n",
       "  </thead>\n",
       "  <tbody>\n",
       "    <tr>\n",
       "      <th>2021-11-19 15:00:00</th>\n",
       "      <td>0.630937</td>\n",
       "    </tr>\n",
       "    <tr>\n",
       "      <th>2021-11-19 16:00:00</th>\n",
       "      <td>-0.382473</td>\n",
       "    </tr>\n",
       "    <tr>\n",
       "      <th>2021-11-19 17:00:00</th>\n",
       "      <td>0.821478</td>\n",
       "    </tr>\n",
       "    <tr>\n",
       "      <th>2021-11-19 18:00:00</th>\n",
       "      <td>0.093145</td>\n",
       "    </tr>\n",
       "    <tr>\n",
       "      <th>2021-11-19 19:00:00</th>\n",
       "      <td>0.253561</td>\n",
       "    </tr>\n",
       "    <tr>\n",
       "      <th>...</th>\n",
       "      <td>...</td>\n",
       "    </tr>\n",
       "    <tr>\n",
       "      <th>2022-01-10 19:00:00</th>\n",
       "      <td>1.044146</td>\n",
       "    </tr>\n",
       "    <tr>\n",
       "      <th>2022-01-10 20:00:00</th>\n",
       "      <td>-0.453100</td>\n",
       "    </tr>\n",
       "    <tr>\n",
       "      <th>2022-01-10 21:00:00</th>\n",
       "      <td>1.686641</td>\n",
       "    </tr>\n",
       "    <tr>\n",
       "      <th>2022-01-10 22:00:00</th>\n",
       "      <td>-0.185017</td>\n",
       "    </tr>\n",
       "    <tr>\n",
       "      <th>2022-01-10 23:00:00</th>\n",
       "      <td>-0.397062</td>\n",
       "    </tr>\n",
       "  </tbody>\n",
       "</table>\n",
       "<p>1257 rows × 1 columns</p>\n",
       "</div>"
      ],
      "text/plain": [
       "                     Lagged_Return\n",
       "Hour                              \n",
       "2021-11-19 15:00:00       0.630937\n",
       "2021-11-19 16:00:00      -0.382473\n",
       "2021-11-19 17:00:00       0.821478\n",
       "2021-11-19 18:00:00       0.093145\n",
       "2021-11-19 19:00:00       0.253561\n",
       "...                            ...\n",
       "2022-01-10 19:00:00       1.044146\n",
       "2022-01-10 20:00:00      -0.453100\n",
       "2022-01-10 21:00:00       1.686641\n",
       "2022-01-10 22:00:00      -0.185017\n",
       "2022-01-10 23:00:00      -0.397062\n",
       "\n",
       "[1257 rows x 1 columns]"
      ]
     },
     "execution_count": 44,
     "metadata": {},
     "output_type": "execute_result"
    }
   ],
   "source": [
    "X_train"
   ]
  },
  {
   "cell_type": "markdown",
   "metadata": {},
   "source": [
    "# Linear Regression Model"
   ]
  },
  {
   "cell_type": "code",
   "execution_count": 45,
   "metadata": {},
   "outputs": [
    {
     "data": {
      "text/plain": [
       "LinearRegression()"
      ]
     },
     "execution_count": 45,
     "metadata": {},
     "output_type": "execute_result"
    }
   ],
   "source": [
    "# Create a Linear Regression model and fit it to the training data\n",
    "from sklearn.linear_model import LinearRegression\n",
    "\n",
    "# Fit a SKLearn linear regression using just the training set (X_train, Y_train):\n",
    "model = LinearRegression()\n",
    "model.fit(X_train, y_train)\n",
    "LinearRegression()"
   ]
  },
  {
   "cell_type": "markdown",
   "metadata": {},
   "source": [
    "# Make predictions using the Testing Data\n",
    "\n",
    "Note: We want to evaluate the model using data that it has never seen before, in this case: X_test."
   ]
  },
  {
   "cell_type": "code",
   "execution_count": 46,
   "metadata": {},
   "outputs": [],
   "source": [
    "# Make a prediction of \"y\" values using just the test dataset\n",
    "predictions = model.predict(X_test)"
   ]
  },
  {
   "cell_type": "code",
   "execution_count": 47,
   "metadata": {},
   "outputs": [],
   "source": [
    "# Assemble actual y data (Y_test) with predicted y data (from just above) into two columns in a dataframe:\n",
    "Results = y_test.to_frame()\n",
    "Results[\"Predicted Return\"] = predictions"
   ]
  },
  {
   "cell_type": "code",
   "execution_count": 48,
   "metadata": {},
   "outputs": [
    {
     "data": {
      "text/plain": [
       "array([<matplotlib.axes._subplots.AxesSubplot object at 0x148d47890>,\n",
       "       <matplotlib.axes._subplots.AxesSubplot object at 0x148d5dc50>],\n",
       "      dtype=object)"
      ]
     },
     "execution_count": 48,
     "metadata": {},
     "output_type": "execute_result"
    },
    {
     "data": {
      "image/png": "[encoded data removed]",
      "text/plain": [
       "<Figure size 432x288 with 2 Axes>"
      ]
     },
     "metadata": {
      "needs_background": "light"
     },
     "output_type": "display_data"
    }
   ],
   "source": [
    "# Plot the first 20 predictions vs the true values\n",
    "Results[:100].plot(subplots=True)"
   ]
  },
  {
   "cell_type": "markdown",
   "metadata": {},
   "source": [
    "# Out-of-Sample Performance\n",
    "\n",
    "Evaluate the model using \"out-of-sample\" data (X_test and y_test)"
   ]
  },
  {
   "cell_type": "code",
   "execution_count": 49,
   "metadata": {},
   "outputs": [
    {
     "name": "stdout",
     "output_type": "stream",
     "text": [
      "Out-of-Sample Root Mean Squared Error (RMSE): 0.7153676223327111\n"
     ]
    }
   ],
   "source": [
    "from sklearn.metrics import mean_squared_error\n",
    "# Calculate the mean_squared_error (MSE) on actual versus predicted test \"y\" \n",
    "mse = mean_squared_error(\n",
    "    Results[\"Return\"],\n",
    "    Results[\"Predicted Return\"]\n",
    ")\n",
    "\n",
    "# Using that mean-squared-error, calculate the root-mean-squared error (RMSE):\n",
    "rmse = np.sqrt(mse)\n",
    "print(f\"Out-of-Sample Root Mean Squared Error (RMSE): {rmse}\")"
   ]
  },
  {
   "cell_type": "markdown",
   "metadata": {},
   "source": [
    "# In-Sample Performance\n",
    "\n",
    "Evaluate the model using in-sample data (X_train and y_train)"
   ]
  },
  {
   "cell_type": "code",
   "execution_count": 50,
   "metadata": {},
   "outputs": [
    {
     "name": "stdout",
     "output_type": "stream",
     "text": [
      "In-sample Root Mean Squared Error (RMSE): 0.817744659256487\n"
     ]
    }
   ],
   "source": [
    "# Construct a dataframe using just the \"y\" training data:\n",
    "in_sample_results = y_train.to_frame()\n",
    "\n",
    "# Add a column of \"in-sample\" predictions to that DataFrame:  \n",
    "in_sample_results[\"In-sample Predictions\"] = model.predict(X_train)\n",
    "\n",
    "# Calculate in-sample mean_squared_error (for comparison to out-of-sample)\n",
    "in_sample_mse = mean_squared_error(\n",
    "    in_sample_results[\"Return\"],\n",
    "    in_sample_results[\"In-sample Predictions\"]\n",
    ")\n",
    "\n",
    "# Calculate in-sample root mean_squared_error (for comparison to out-of-sample)\n",
    "in_sample_rmse = np.sqrt(in_sample_mse)\n",
    "print(f\"In-sample Root Mean Squared Error (RMSE): {in_sample_rmse}\")"
   ]
  },
  {
   "cell_type": "code",
   "execution_count": null,
   "metadata": {},
   "outputs": [],
   "source": []
  }
 ],
 "metadata": {
  "file_extension": ".py",
  "kernelspec": {
   "display_name": "Python 3 (ipykernel)",
   "language": "python",
   "name": "python3"
  },
  "language_info": {
   "codemirror_mode": {
    "name": "ipython",
    "version": 3
   },
   "file_extension": ".py",
   "mimetype": "text/x-python",
   "name": "python",
   "nbconvert_exporter": "python",
   "pygments_lexer": "ipython3",
   "version": "3.8.8"
  },
  "mimetype": "text/x-python",
  "name": "python",
  "npconvert_exporter": "python",
  "pygments_lexer": "ipython3",
  "version": 3
 },
 "nbformat": 4,
 "nbformat_minor": 4
}
