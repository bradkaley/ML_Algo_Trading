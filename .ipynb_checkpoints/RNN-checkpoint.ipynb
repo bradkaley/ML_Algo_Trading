{
 "cells": [
  {
   "cell_type": "code",
   "execution_count": 2,
   "id": "f6e5bba9",
   "metadata": {},
   "outputs": [],
   "source": [
    "# Initial imports\n",
    "import numpy as np\n",
    "import pandas as pd\n",
    "\n",
    "\n",
    "# API import\n",
    "import requests\n",
    "import json\n",
    "\n",
    "# Data cleaning\n",
    "from datetime import datetime\n",
    "\n",
    "\n",
    "# Plot import\n",
    "%matplotlib inline"
   ]
  },
  {
   "cell_type": "code",
   "execution_count": 26,
   "id": "df73b659-dfac-4557-a14e-a6c83219403b",
   "metadata": {},
   "outputs": [
    {
     "data": {
      "text/html": [
       "<div>\n",
       "<style scoped>\n",
       "    .dataframe tbody tr th:only-of-type {\n",
       "        vertical-align: middle;\n",
       "    }\n",
       "\n",
       "    .dataframe tbody tr th {\n",
       "        vertical-align: top;\n",
       "    }\n",
       "\n",
       "    .dataframe thead th {\n",
       "        text-align: right;\n",
       "    }\n",
       "</style>\n",
       "<table border=\"1\" class=\"dataframe\">\n",
       "  <thead>\n",
       "    <tr style=\"text-align: right;\">\n",
       "      <th></th>\n",
       "      <th>time</th>\n",
       "      <th>high</th>\n",
       "      <th>low</th>\n",
       "      <th>open</th>\n",
       "      <th>volumefrom</th>\n",
       "      <th>volumeto</th>\n",
       "      <th>close</th>\n",
       "      <th>conversionType</th>\n",
       "      <th>conversionSymbol</th>\n",
       "    </tr>\n",
       "  </thead>\n",
       "  <tbody>\n",
       "    <tr>\n",
       "      <th>0</th>\n",
       "      <td>1469750400</td>\n",
       "      <td>12.94</td>\n",
       "      <td>12.540</td>\n",
       "      <td>12.83</td>\n",
       "      <td>561409.60</td>\n",
       "      <td>7208428.36</td>\n",
       "      <td>12.840</td>\n",
       "      <td>multiply</td>\n",
       "      <td>BTC</td>\n",
       "    </tr>\n",
       "    <tr>\n",
       "      <th>1</th>\n",
       "      <td>1469836800</td>\n",
       "      <td>12.88</td>\n",
       "      <td>12.530</td>\n",
       "      <td>12.87</td>\n",
       "      <td>160185.87</td>\n",
       "      <td>2030259.80</td>\n",
       "      <td>12.570</td>\n",
       "      <td>direct</td>\n",
       "      <td></td>\n",
       "    </tr>\n",
       "    <tr>\n",
       "      <th>2</th>\n",
       "      <td>1469923200</td>\n",
       "      <td>12.28</td>\n",
       "      <td>11.220</td>\n",
       "      <td>12.49</td>\n",
       "      <td>1289333.67</td>\n",
       "      <td>15234160.66</td>\n",
       "      <td>11.820</td>\n",
       "      <td>multiply</td>\n",
       "      <td>BTC</td>\n",
       "    </tr>\n",
       "    <tr>\n",
       "      <th>3</th>\n",
       "      <td>1470009600</td>\n",
       "      <td>11.74</td>\n",
       "      <td>11.020</td>\n",
       "      <td>11.82</td>\n",
       "      <td>971170.27</td>\n",
       "      <td>10728906.44</td>\n",
       "      <td>11.050</td>\n",
       "      <td>multiply</td>\n",
       "      <td>BTC</td>\n",
       "    </tr>\n",
       "    <tr>\n",
       "      <th>4</th>\n",
       "      <td>1470096000</td>\n",
       "      <td>11.20</td>\n",
       "      <td>7.033</td>\n",
       "      <td>11.04</td>\n",
       "      <td>1126066.49</td>\n",
       "      <td>10863339.00</td>\n",
       "      <td>8.295</td>\n",
       "      <td>direct</td>\n",
       "      <td></td>\n",
       "    </tr>\n",
       "  </tbody>\n",
       "</table>\n",
       "</div>"
      ],
      "text/plain": [
       "         time   high     low   open  volumefrom     volumeto   close  \\\n",
       "0  1469750400  12.94  12.540  12.83   561409.60   7208428.36  12.840   \n",
       "1  1469836800  12.88  12.530  12.87   160185.87   2030259.80  12.570   \n",
       "2  1469923200  12.28  11.220  12.49  1289333.67  15234160.66  11.820   \n",
       "3  1470009600  11.74  11.020  11.82   971170.27  10728906.44  11.050   \n",
       "4  1470096000  11.20   7.033  11.04  1126066.49  10863339.00   8.295   \n",
       "\n",
       "  conversionType conversionSymbol  \n",
       "0       multiply              BTC  \n",
       "1         direct                   \n",
       "2       multiply              BTC  \n",
       "3       multiply              BTC  \n",
       "4         direct                   "
      ]
     },
     "execution_count": 26,
     "metadata": {},
     "output_type": "execute_result"
    }
   ],
   "source": [
    "# API\n",
    "ticker = \"ETH\"\n",
    "limit =\"2000\"\n",
    "\n",
    "price_url = f\"https://min-api.cryptocompare.com/data/v2/histoday?fsym={ticker}&tsym=USD&limit=2000\"\n",
    "\n",
    "price_response_data = requests.get(price_url).json()\n",
    "data_price = pd.DataFrame(price_response_data[\"Data\"][\"Data\"])\n",
    "\n",
    "#volume_url = \"https://min-api.cryptocompare.com/data/symbol/histoday?fsym=ETH&tsym=USD&limit=2000\"\n",
    "#volume_response_data = requests.get(volume_url).json()\n",
    "\n",
    "#data_vol = pd.DataFrame(volume_response_data)\n",
    "\n",
    "data_price.head()\n"
   ]
  },
  {
   "cell_type": "code",
   "execution_count": 27,
   "id": "4e267642",
   "metadata": {},
   "outputs": [
    {
     "data": {
      "text/html": [
       "<div>\n",
       "<style scoped>\n",
       "    .dataframe tbody tr th:only-of-type {\n",
       "        vertical-align: middle;\n",
       "    }\n",
       "\n",
       "    .dataframe tbody tr th {\n",
       "        vertical-align: top;\n",
       "    }\n",
       "\n",
       "    .dataframe thead th {\n",
       "        text-align: right;\n",
       "    }\n",
       "</style>\n",
       "<table border=\"1\" class=\"dataframe\">\n",
       "  <thead>\n",
       "    <tr style=\"text-align: right;\">\n",
       "      <th></th>\n",
       "      <th>Highest price</th>\n",
       "      <th>Lowest price</th>\n",
       "      <th>Opening price</th>\n",
       "      <th>Closing price</th>\n",
       "    </tr>\n",
       "    <tr>\n",
       "      <th>Date</th>\n",
       "      <th></th>\n",
       "      <th></th>\n",
       "      <th></th>\n",
       "      <th></th>\n",
       "    </tr>\n",
       "  </thead>\n",
       "  <tbody>\n",
       "    <tr>\n",
       "      <th>2016-07-29</th>\n",
       "      <td>12.94</td>\n",
       "      <td>12.540</td>\n",
       "      <td>12.83</td>\n",
       "      <td>12.840</td>\n",
       "    </tr>\n",
       "    <tr>\n",
       "      <th>2016-07-30</th>\n",
       "      <td>12.88</td>\n",
       "      <td>12.530</td>\n",
       "      <td>12.87</td>\n",
       "      <td>12.570</td>\n",
       "    </tr>\n",
       "    <tr>\n",
       "      <th>2016-07-31</th>\n",
       "      <td>12.28</td>\n",
       "      <td>11.220</td>\n",
       "      <td>12.49</td>\n",
       "      <td>11.820</td>\n",
       "    </tr>\n",
       "    <tr>\n",
       "      <th>2016-08-01</th>\n",
       "      <td>11.74</td>\n",
       "      <td>11.020</td>\n",
       "      <td>11.82</td>\n",
       "      <td>11.050</td>\n",
       "    </tr>\n",
       "    <tr>\n",
       "      <th>2016-08-02</th>\n",
       "      <td>11.20</td>\n",
       "      <td>7.033</td>\n",
       "      <td>11.04</td>\n",
       "      <td>8.295</td>\n",
       "    </tr>\n",
       "  </tbody>\n",
       "</table>\n",
       "</div>"
      ],
      "text/plain": [
       "            Highest price  Lowest price  Opening price  Closing price\n",
       "Date                                                                 \n",
       "2016-07-29          12.94        12.540          12.83         12.840\n",
       "2016-07-30          12.88        12.530          12.87         12.570\n",
       "2016-07-31          12.28        11.220          12.49         11.820\n",
       "2016-08-01          11.74        11.020          11.82         11.050\n",
       "2016-08-02          11.20         7.033          11.04          8.295"
      ]
     },
     "execution_count": 27,
     "metadata": {},
     "output_type": "execute_result"
    }
   ],
   "source": [
    "# Transform to DataFrame\n",
    "data_price.drop(columns = [\"volumefrom\" , \"volumeto\" , \"conversionType\" , \"conversionSymbol\"], inplace =True)\n",
    "\n",
    "data_price.columns =['Date', 'Highest price',  'Lowest price' ,  'Opening price' , 'Closing price']\n",
    "data_price['Date'] = pd.to_datetime(data_price['Date'], unit='s')\n",
    "\n",
    "data_price.set_index('Date', inplace=True)\n",
    "data_price.head()"
   ]
  },
  {
   "cell_type": "code",
   "execution_count": 28,
   "id": "0f61c94f",
   "metadata": {},
   "outputs": [],
   "source": [
    "def window_data(df, window, feature_col_number, target_col_number):\n",
    "    \"\"\"\n",
    "    This function accepts the column number for the features (X) and the target (y).\n",
    "    It chunks the data up with a rolling window of Xt - window to predict Xt.\n",
    "    It returns two numpy arrays of X and y.\n",
    "    \"\"\"\n",
    "    X = []\n",
    "    y = []\n",
    "    for i in range(len(df) - window):\n",
    "        features = df.iloc[i : (i + window), feature_col_number]\n",
    "        target = df.iloc[(i + window), target_col_number]\n",
    "        X.append(features)\n",
    "        y.append(target)\n",
    "    return np.array(X), np.array(y).reshape(-1, 1)"
   ]
  },
  {
   "cell_type": "markdown",
   "id": "35f70906",
   "metadata": {},
   "source": [
    "# Split Data and create predictive set"
   ]
  },
  {
   "cell_type": "code",
   "execution_count": 29,
   "id": "936a9eb6",
   "metadata": {},
   "outputs": [],
   "source": [
    "# Define the window size\n",
    "window_size = 30\n",
    "\n",
    "# Set the index of the feature and target columns\n",
    "feature_column = 1\n",
    "target_column = 1\n",
    "\n",
    "# Create the features (X) and target (y) data using the window_data() function.\n",
    "X, y = window_data(data_price, window_size, feature_column, target_column)\n",
    "\n",
    "\n",
    "# Manually splitting the data\n",
    "split = int(0.2 * len(X))\n",
    "\n",
    "X_train = X[: split]\n",
    "X_test = X[split:]\n",
    "\n",
    "y_train = y[: split]\n",
    "y_test = y[split:]"
   ]
  },
  {
   "cell_type": "code",
   "execution_count": 15,
   "id": "0352bb01-41ed-42fd-8458-f510d72a6981",
   "metadata": {},
   "outputs": [],
   "source": [
    "# Importing the MinMaxScaler from sklearn\n",
    "from sklearn.preprocessing import MinMaxScaler\n",
    "\n",
    "# Create a MinMaxScaler object\n",
    "scaler = MinMaxScaler()\n",
    "\n",
    "# Fit the MinMaxScaler object with the features data X\n",
    "scaler.fit(X_train)\n",
    "\n",
    "# Scale the features training and testing sets\n",
    "X_train = scaler.transform(X_train)\n",
    "X_test = scaler.transform(X_test)\n",
    "\n",
    "# Fit the MinMaxScaler object with the target data Y\n",
    "scaler.fit(y_train)\n",
    "\n",
    "# Scale the target training and testing sets\n",
    "y_train = scaler.transform(y_train)\n",
    "y_test = scaler.transform(y_test)"
   ]
  },
  {
   "cell_type": "code",
   "execution_count": 16,
   "id": "f88b3f6f-303e-4305-995a-06cbb7a1a068",
   "metadata": {},
   "outputs": [],
   "source": [
    "# Reshape the features data\n",
    "X_train = X_train.reshape((X_train.shape[0], X_train.shape[1], 1))\n",
    "X_test = X_test.reshape((X_test.shape[0], X_test.shape[1], 1))"
   ]
  },
  {
   "cell_type": "markdown",
   "id": "6b606ac5",
   "metadata": {},
   "source": [
    "# Build and Train the LSTM RNN"
   ]
  },
  {
   "cell_type": "code",
   "execution_count": 17,
   "id": "db94be7e",
   "metadata": {},
   "outputs": [],
   "source": [
    "# Import required Keras modules\n",
    "from tensorflow.keras.models import Sequential\n",
    "from tensorflow.keras.layers import LSTM, Dense, Dropout"
   ]
  },
  {
   "cell_type": "code",
   "execution_count": 18,
   "id": "2c93a890",
   "metadata": {},
   "outputs": [],
   "source": [
    "# Define the LSTM RNN model.\n",
    "model = Sequential()\n",
    "\n",
    "number_units = 3*window_size\n",
    "dropout_fraction = 0.2\n",
    "\n",
    "# Layer 1\n",
    "model.add(LSTM(\n",
    "    units=number_units,\n",
    "    return_sequences=True,\n",
    "    input_shape=(X_train.shape[1], 1))\n",
    "    )\n",
    "model.add(Dropout(dropout_fraction))\n",
    "\n",
    "# Layer 2\n",
    "model.add(LSTM(units=number_units, return_sequences=True))\n",
    "model.add(Dropout(dropout_fraction))\n",
    "\n",
    "# Layer 3\n",
    "model.add(LSTM(units=number_units))\n",
    "model.add(Dropout(dropout_fraction))\n",
    "\n",
    "# Output layer\n",
    "model.add(Dense(1))"
   ]
  },
  {
   "cell_type": "code",
   "execution_count": 19,
   "id": "98e57720",
   "metadata": {},
   "outputs": [
    {
     "name": "stdout",
     "output_type": "stream",
     "text": [
      "Model: \"sequential_1\"\n",
      "_________________________________________________________________\n",
      " Layer (type)                Output Shape              Param #   \n",
      "=================================================================\n",
      " lstm_3 (LSTM)               (None, 30, 90)            33120     \n",
      "                                                                 \n",
      " dropout_3 (Dropout)         (None, 30, 90)            0         \n",
      "                                                                 \n",
      " lstm_4 (LSTM)               (None, 30, 90)            65160     \n",
      "                                                                 \n",
      " dropout_4 (Dropout)         (None, 30, 90)            0         \n",
      "                                                                 \n",
      " lstm_5 (LSTM)               (None, 90)                65160     \n",
      "                                                                 \n",
      " dropout_5 (Dropout)         (None, 90)                0         \n",
      "                                                                 \n",
      " dense_1 (Dense)             (None, 1)                 91        \n",
      "                                                                 \n",
      "=================================================================\n",
      "Total params: 163,531\n",
      "Trainable params: 163,531\n",
      "Non-trainable params: 0\n",
      "_________________________________________________________________\n"
     ]
    }
   ],
   "source": [
    "model.summary()"
   ]
  },
  {
   "cell_type": "code",
   "execution_count": 20,
   "id": "b049c180",
   "metadata": {},
   "outputs": [],
   "source": [
    "# Compile the model\n",
    "model.compile(optimizer=\"adam\", loss=\"mean_squared_error\" , metrics = [\"mse\"])"
   ]
  },
  {
   "cell_type": "code",
   "execution_count": 21,
   "id": "0bbb8763",
   "metadata": {},
   "outputs": [
    {
     "data": {
      "text/plain": [
       "<keras.callbacks.History at 0x2592bdc1dc8>"
      ]
     },
     "execution_count": 21,
     "metadata": {},
     "output_type": "execute_result"
    }
   ],
   "source": [
    "# Train the model\n",
    "model.fit(X_train,\n",
    "          y_train,\n",
    "          epochs=10,\n",
    "          validation_split=0.3,\n",
    "          shuffle=False,\n",
    "          batch_size=1,\n",
    "          verbose=0\n",
    ")"
   ]
  },
  {
   "cell_type": "code",
   "execution_count": 22,
   "id": "ec985bb9",
   "metadata": {},
   "outputs": [
    {
     "name": "stdout",
     "output_type": "stream",
     "text": [
      "50/50 [==============================] - 1s 11ms/step - loss: 10.2867 - mse: 10.2867\n"
     ]
    },
    {
     "data": {
      "text/plain": [
       "[10.286699295043945, 10.286699295043945]"
      ]
     },
     "execution_count": 22,
     "metadata": {},
     "output_type": "execute_result"
    }
   ],
   "source": [
    "# Evaluate the model\n",
    "model.evaluate(X_test, y_test)"
   ]
  },
  {
   "cell_type": "code",
   "execution_count": 23,
   "id": "3c99e0ac",
   "metadata": {},
   "outputs": [],
   "source": [
    "# Make some predictions\n",
    "predicted = model.predict(X_test)\n",
    "\n",
    "# Recover the original prices instead of the scaled version\n",
    "predicted_prices = scaler.inverse_transform(predicted)\n",
    "real_prices = scaler.inverse_transform(y_test.reshape(-1, 1))"
   ]
  },
  {
   "cell_type": "code",
   "execution_count": 24,
   "id": "10f3ddab",
   "metadata": {},
   "outputs": [
    {
     "data": {
      "text/html": [
       "<div>\n",
       "<style scoped>\n",
       "    .dataframe tbody tr th:only-of-type {\n",
       "        vertical-align: middle;\n",
       "    }\n",
       "\n",
       "    .dataframe tbody tr th {\n",
       "        vertical-align: top;\n",
       "    }\n",
       "\n",
       "    .dataframe thead th {\n",
       "        text-align: right;\n",
       "    }\n",
       "</style>\n",
       "<table border=\"1\" class=\"dataframe\">\n",
       "  <thead>\n",
       "    <tr style=\"text-align: right;\">\n",
       "      <th></th>\n",
       "      <th>Actual</th>\n",
       "      <th>Predicted</th>\n",
       "    </tr>\n",
       "    <tr>\n",
       "      <th>Date</th>\n",
       "      <th></th>\n",
       "      <th></th>\n",
       "    </tr>\n",
       "  </thead>\n",
       "  <tbody>\n",
       "    <tr>\n",
       "      <th>2017-09-26</th>\n",
       "      <td>287.01</td>\n",
       "      <td>264.158325</td>\n",
       "    </tr>\n",
       "    <tr>\n",
       "      <th>2017-09-27</th>\n",
       "      <td>287.83</td>\n",
       "      <td>264.334595</td>\n",
       "    </tr>\n",
       "    <tr>\n",
       "      <th>2017-09-28</th>\n",
       "      <td>298.18</td>\n",
       "      <td>264.641479</td>\n",
       "    </tr>\n",
       "    <tr>\n",
       "      <th>2017-09-29</th>\n",
       "      <td>279.79</td>\n",
       "      <td>265.115326</td>\n",
       "    </tr>\n",
       "    <tr>\n",
       "      <th>2017-09-30</th>\n",
       "      <td>292.32</td>\n",
       "      <td>265.454224</td>\n",
       "    </tr>\n",
       "  </tbody>\n",
       "</table>\n",
       "</div>"
      ],
      "text/plain": [
       "            Actual   Predicted\n",
       "Date                          \n",
       "2017-09-26  287.01  264.158325\n",
       "2017-09-27  287.83  264.334595\n",
       "2017-09-28  298.18  264.641479\n",
       "2017-09-29  279.79  265.115326\n",
       "2017-09-30  292.32  265.454224"
      ]
     },
     "execution_count": 24,
     "metadata": {},
     "output_type": "execute_result"
    }
   ],
   "source": [
    "# Create a DataFrame of Real and Predicted values\n",
    "stocks = pd.DataFrame({\n",
    "    \"Actual\": real_prices.ravel(),\n",
    "    \"Predicted\": predicted_prices.ravel()\n",
    "}, index = data_price.index[-len(real_prices): ]) \n",
    "\n",
    "# Show the DataFrame's head\n",
    "stocks.head()"
   ]
  },
  {
   "cell_type": "code",
   "execution_count": 25,
   "id": "1e382158",
   "metadata": {},
   "outputs": [
    {
     "data": {
      "text/plain": [
       "<AxesSubplot:title={'center':'Actual Vs. Predicted Gold Prices'}, xlabel='Date'>"
      ]
     },
     "execution_count": 25,
     "metadata": {},
     "output_type": "execute_result"
    },
    {
     "data": {
      "image/png": "[encoded data removed]",
      "text/plain": [
       "<Figure size 432x288 with 1 Axes>"
      ]
     },
     "metadata": {
      "needs_background": "light"
     },
     "output_type": "display_data"
    }
   ],
   "source": [
    "stocks.plot(title=\"Actual Vs. Predicted Gold Prices\")"
   ]
  },
  {
   "cell_type": "code",
   "execution_count": null,
   "id": "bc56fc9e",
   "metadata": {},
   "outputs": [],
   "source": []
  }
 ],
 "metadata": {
  "kernelspec": {
   "display_name": "Python 3 (ipykernel)",
   "language": "python",
   "name": "python3"
  },
  "language_info": {
   "codemirror_mode": {
    "name": "ipython",
    "version": 3
   },
   "file_extension": ".py",
   "mimetype": "text/x-python",
   "name": "python",
   "nbconvert_exporter": "python",
   "pygments_lexer": "ipython3",
   "version": "3.7.11"
  }
 },
 "nbformat": 4,
 "nbformat_minor": 5
}
